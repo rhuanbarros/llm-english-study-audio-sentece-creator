{
 "cells": [
  {
   "cell_type": "code",
   "execution_count": 1,
   "metadata": {},
   "outputs": [],
   "source": [
    "import os\n",
    "from pydub import AudioSegment\n"
   ]
  },
  {
   "cell_type": "code",
   "execution_count": 9,
   "metadata": {},
   "outputs": [
    {
     "name": "stdout",
     "output_type": "stream",
     "text": [
      "new_audio/Wizard-Lesson 2-02 [] ['019.wav', '009.wav', '001.wav', '014.wav', '010.wav', '030.wav', '037.wav', '025.wav', '017.wav', '035.wav', '028.wav', '022.wav', '018.wav', '021.wav', '005.wav', '002.wav', '011.wav', '016.wav', '008.wav', '031.wav', '039.wav', '006.wav', '038.wav', '034.wav', '036.wav', '033.wav', '000.wav', '029.wav', '026.wav', '015.wav', '020.wav', '013.wav', '007.wav', '012.wav', '027.wav', '040.wav', '003.wav', '024.wav', '032.wav', '004.wav', '023.wav']\n",
      "new_audio/Wizard-Lesson 6-06 [] ['019.wav', '001.wav', '014.wav', '010.wav', '025.wav', '017.wav', '028.wav', '022.wav', '005.wav', '002.wav', '011.wav', '016.wav', '008.wav', '029.wav', '026.wav', '020.wav', '013.wav', '007.wav', '004.wav', '023.wav']\n",
      "new_audio/Wizard-Lesson 27-27 [] ['019.wav', '001.wav', '014.wav', '010.wav', '025.wav', '017.wav', '028.wav', '022.wav', '005.wav', '002.wav', '011.wav', '016.wav', '008.wav', '029.wav', '026.wav', '020.wav', '013.wav', '007.wav', '004.wav', '023.wav']\n",
      "new_audio/Wizard-Lesson 22-22 [] ['019.wav', '009.wav', '001.wav', '014.wav', '010.wav', '030.wav', '037.wav', '025.wav', '017.wav', '035.wav', '028.wav', '022.wav', '018.wav', '021.wav', '005.wav', '002.wav', '011.wav', '006.wav', '034.wav', '036.wav', '033.wav', '029.wav', '026.wav', '015.wav', '013.wav', '007.wav', '027.wav', '003.wav', '032.wav', '023.wav']\n",
      "new_audio/Wizard-Lesson 3-03 [] ['019.wav', '009.wav', '001.wav', '014.wav', '010.wav', '041.wav', '030.wav', '037.wav', '025.wav', '017.wav', '035.wav', '043.wav', '028.wav', '052.wav', '055.wav', '050.wav', '022.wav', '018.wav', '062.wav', '021.wav', '005.wav', '049.wav', '057.wav', '048.wav', '051.wav', '002.wav', '011.wav', '054.wav', '058.wav', '016.wav', '042.wav', '008.wav', '031.wav', '063.wav', '047.wav', '061.wav', '039.wav', '046.wav', '006.wav', '038.wav', '056.wav', '034.wav', '036.wav', '033.wav', '000.wav', '029.wav', '026.wav', '053.wav', '015.wav', '020.wav', '013.wav', '044.wav', '059.wav', '007.wav', '012.wav', '027.wav', '040.wav', '003.wav', '024.wav', '032.wav', '004.wav', '064.wav', '045.wav', '023.wav', '060.wav']\n",
      "new_audio/Wizard-Lesson 23-23 [] ['019.wav', '009.wav', '001.wav', '037.wav', '025.wav', '017.wav', '035.wav', '043.wav', '028.wav', '018.wav', '021.wav', '005.wav', '002.wav', '011.wav', '016.wav', '042.wav', '031.wav', '039.wav', '006.wav', '038.wav', '036.wav', '033.wav', '029.wav', '015.wav', '020.wav', '013.wav', '044.wav', '007.wav', '012.wav', '027.wav', '040.wav', '003.wav', '024.wav', '032.wav', '023.wav']\n",
      "new_audio/Wizard-Lesson 19-19 [] ['019.wav', '009.wav', '001.wav', '014.wav', '041.wav', '030.wav', '037.wav', '017.wav', '035.wav', '043.wav', '028.wav', '022.wav', '018.wav', '021.wav', '002.wav', '011.wav', '016.wav', '042.wav', '008.wav', '031.wav', '047.wav', '039.wav', '046.wav', '006.wav', '038.wav', '034.wav', '033.wav', '029.wav', '026.wav', '013.wav', '007.wav', '012.wav', '027.wav', '003.wav', '024.wav', '004.wav', '045.wav', '023.wav']\n",
      "new_audio/Wizard-Lesson 25-25 [] ['001.wav', '014.wav', '010.wav', '022.wav', '018.wav', '005.wav', '002.wav', '011.wav', '016.wav', '008.wav', '020.wav', '013.wav', '007.wav', '004.wav']\n",
      "new_audio/Wizard-Lesson 15-15 [] ['009.wav', '001.wav', '014.wav', '010.wav', '030.wav', '037.wav', '025.wav', '017.wav', '028.wav', '022.wav', '018.wav', '021.wav', '005.wav', '002.wav', '016.wav', '008.wav', '006.wav', '038.wav', '034.wav', '036.wav', '033.wav', '000.wav', '029.wav', '026.wav', '020.wav', '013.wav', '012.wav', '024.wav', '032.wav', '004.wav']\n",
      "new_audio/Wizard-Lesson 14-14 [] ['019.wav', '009.wav', '001.wav', '014.wav', '010.wav', '030.wav', '035.wav', '028.wav', '022.wav', '018.wav', '005.wav', '002.wav', '011.wav', '016.wav', '008.wav', '031.wav', '039.wav', '006.wav', '038.wav', '034.wav', '036.wav', '026.wav', '015.wav', '020.wav', '013.wav', '007.wav', '012.wav', '027.wav', '040.wav', '003.wav', '024.wav', '032.wav', '023.wav']\n",
      "new_audio/Wizard-Lesson 8-08 [] ['009.wav', '001.wav', '014.wav', '030.wav', '017.wav', '018.wav', '021.wav', '005.wav', '002.wav', '011.wav', '008.wav', '029.wav', '026.wav', '015.wav', '020.wav', '007.wav', '012.wav', '027.wav', '024.wav', '004.wav', '023.wav']\n",
      "new_audio/Wizard-Lesson 24-24 [] ['019.wav', '009.wav', '001.wav', '014.wav', '010.wav', '037.wav', '025.wav', '017.wav', '035.wav', '028.wav', '021.wav', '005.wav', '002.wav', '011.wav', '016.wav', '008.wav', '031.wav', '039.wav', '006.wav', '036.wav', '033.wav', '029.wav', '026.wav', '020.wav', '013.wav', '007.wav', '012.wav', '027.wav', '040.wav', '003.wav', '024.wav', '032.wav', '023.wav']\n",
      "new_audio/Wizard-Lesson 12-12 [] ['001.wav', '010.wav', '041.wav', '030.wav', '025.wav', '017.wav', '035.wav', '043.wav', '028.wav', '018.wav', '021.wav', '005.wav', '002.wav', '011.wav', '016.wav', '008.wav', '031.wav', '039.wav', '046.wav', '006.wav', '038.wav', '034.wav', '036.wav', '033.wav', '000.wav', '029.wav', '026.wav', '015.wav', '020.wav', '013.wav', '044.wav', '007.wav', '012.wav', '040.wav', '003.wav', '024.wav', '045.wav', '023.wav']\n",
      "new_audio/Wizard-Lesson 18-18 [] ['019.wav', '009.wav', '001.wav', '010.wav', '030.wav', '037.wav', '025.wav', '035.wav', '028.wav', '022.wav', '018.wav', '021.wav', '005.wav', '002.wav', '016.wav', '008.wav', '031.wav', '006.wav', '034.wav', '036.wav', '033.wav', '015.wav', '013.wav', '007.wav', '012.wav', '027.wav', '024.wav', '004.wav']\n",
      "new_audio/Wizard-Lesson 11-11 [] ['019.wav', '009.wav', '001.wav', '010.wav', '030.wav', '025.wav', '028.wav', '022.wav', '018.wav', '021.wav', '005.wav', '002.wav', '016.wav', '006.wav', '034.wav', '033.wav', '029.wav', '026.wav', '015.wav', '013.wav', '007.wav', '012.wav', '003.wav', '032.wav', '023.wav']\n",
      "new_audio/Wizard-Lesson 30-30 [] ['019.wav', '009.wav', '001.wav', '014.wav', '010.wav', '030.wav', '037.wav', '025.wav', '017.wav', '035.wav', '022.wav', '018.wav', '021.wav', '005.wav', '002.wav', '011.wav', '031.wav', '039.wav', '006.wav', '038.wav', '034.wav', '033.wav', '029.wav', '026.wav', '015.wav', '013.wav', '007.wav', '027.wav', '003.wav', '023.wav']\n",
      "new_audio/Wizard-Lesson 7-07 [] ['019.wav', '009.wav', '001.wav', '014.wav', '010.wav', '030.wav', '037.wav', '025.wav', '017.wav', '035.wav', '028.wav', '022.wav', '018.wav', '021.wav', '005.wav', '002.wav', '011.wav', '016.wav', '008.wav', '031.wav', '039.wav', '006.wav', '038.wav', '034.wav', '036.wav', '033.wav', '000.wav', '029.wav', '026.wav', '015.wav', '020.wav', '013.wav', '007.wav', '012.wav', '027.wav', '003.wav', '024.wav', '032.wav', '004.wav', '023.wav']\n",
      "new_audio/Wizard-Lesson 20-20 [] ['009.wav', '001.wav', '014.wav', '010.wav', '030.wav', '017.wav', '018.wav', '021.wav', '005.wav', '002.wav', '011.wav', '016.wav', '006.wav', '033.wav', '029.wav', '026.wav', '020.wav', '013.wav', '007.wav', '012.wav', '027.wav', '003.wav', '024.wav', '032.wav', '023.wav']\n",
      "new_audio/Wizard-Lesson 5-05 [] ['019.wav', '009.wav', '001.wav', '014.wav', '010.wav', '030.wav', '037.wav', '025.wav', '017.wav', '035.wav', '022.wav', '018.wav', '021.wav', '005.wav', '002.wav', '011.wav', '031.wav', '039.wav', '006.wav', '038.wav', '034.wav', '033.wav', '029.wav', '026.wav', '015.wav', '013.wav', '007.wav', '027.wav', '003.wav', '023.wav']\n",
      "new_audio/Wizard-Lesson 16-16 [] ['019.wav', '001.wav', '014.wav', '010.wav', '041.wav', '037.wav', '025.wav', '035.wav', '028.wav', '018.wav', '021.wav', '005.wav', '002.wav', '011.wav', '016.wav', '042.wav', '008.wav', '031.wav', '039.wav', '006.wav', '036.wav', '033.wav', '029.wav', '015.wav', '020.wav', '007.wav', '012.wav', '027.wav', '040.wav', '003.wav', '024.wav', '032.wav', '023.wav']\n",
      "new_audio/Wizard-Lesson 21-21 [] ['001.wav', '010.wav', '041.wav', '030.wav', '037.wav', '025.wav', '017.wav', '035.wav', '043.wav', '028.wav', '022.wav', '018.wav', '021.wav', '005.wav', '002.wav', '011.wav', '016.wav', '042.wav', '008.wav', '031.wav', '006.wav', '038.wav', '036.wav', '033.wav', '000.wav', '026.wav', '015.wav', '020.wav', '013.wav', '007.wav', '012.wav', '027.wav', '040.wav', '003.wav', '032.wav', '023.wav']\n",
      "new_audio/Wizard-Lesson 10-10 [] ['019.wav', '001.wav', '014.wav', '010.wav', '025.wav', '017.wav', '028.wav', '022.wav', '005.wav', '002.wav', '011.wav', '016.wav', '008.wav', '029.wav', '026.wav', '020.wav', '013.wav', '007.wav', '004.wav', '023.wav']\n",
      "new_audio/Wizard-Lesson 17-17 [] ['009.wav', '001.wav', '014.wav', '030.wav', '017.wav', '018.wav', '021.wav', '005.wav', '002.wav', '011.wav', '008.wav', '006.wav', '029.wav', '026.wav', '015.wav', '020.wav', '012.wav', '027.wav', '003.wav', '024.wav', '023.wav']\n",
      "new_audio/Wizard-Lesson 9-09 [] ['019.wav', '009.wav', '001.wav', '014.wav', '030.wav', '025.wav', '017.wav', '035.wav', '022.wav', '018.wav', '021.wav', '005.wav', '002.wav', '011.wav', '008.wav', '031.wav', '006.wav', '034.wav', '033.wav', '029.wav', '026.wav', '015.wav', '012.wav', '027.wav', '003.wav', '023.wav']\n",
      "new_audio/Wizard-Lesson 28-28 [] ['009.wav', '001.wav', '014.wav', '010.wav', '030.wav', '025.wav', '017.wav', '035.wav', '043.wav', '028.wav', '022.wav', '018.wav', '021.wav', '005.wav', '002.wav', '016.wav', '042.wav', '008.wav', '031.wav', '039.wav', '006.wav', '038.wav', '034.wav', '036.wav', '026.wav', '020.wav', '013.wav', '044.wav', '007.wav', '012.wav', '027.wav', '040.wav', '003.wav', '024.wav', '032.wav']\n",
      "new_audio/Wizard-Lesson 4-04 [] ['019.wav', '009.wav', '001.wav', '041.wav', '030.wav', '025.wav', '017.wav', '035.wav', '043.wav', '028.wav', '050.wav', '022.wav', '018.wav', '021.wav', '049.wav', '048.wav', '051.wav', '002.wav', '011.wav', '016.wav', '008.wav', '031.wav', '039.wav', '046.wav', '006.wav', '038.wav', '034.wav', '036.wav', '033.wav', '029.wav', '026.wav', '015.wav', '013.wav', '044.wav', '007.wav', '012.wav', '040.wav', '003.wav', '024.wav', '004.wav', '045.wav', '023.wav']\n",
      "new_audio/Wizard-Lesson 29-29 [] ['019.wav', '009.wav', '001.wav', '014.wav', '010.wav', '030.wav', '025.wav', '017.wav', '028.wav', '022.wav', '018.wav', '021.wav', '005.wav', '002.wav', '011.wav', '016.wav', '008.wav', '031.wav', '006.wav', '033.wav', '029.wav', '026.wav', '015.wav', '020.wav', '013.wav', '007.wav', '012.wav', '027.wav', '003.wav', '024.wav', '032.wav', '004.wav', '023.wav']\n",
      "new_audio/Wizard-Lesson 13-13 [] ['019.wav', '009.wav', '001.wav', '014.wav', '025.wav', '022.wav', '018.wav', '021.wav', '005.wav', '002.wav', '011.wav', '016.wav', '008.wav', '006.wav', '012.wav', '027.wav', '024.wav', '004.wav']\n",
      "new_audio/Wizard-Lesson 1-01 [] ['019.wav', '009.wav', '001.wav', '030.wav', '035.wav', '028.wav', '022.wav', '018.wav', '005.wav', '002.wav', '011.wav', '016.wav', '008.wav', '031.wav', '006.wav', '034.wav', '036.wav', '026.wav', '015.wav', '020.wav', '013.wav', '012.wav', '027.wav', '003.wav', '024.wav', '032.wav', '023.wav']\n",
      "new_audio/Wizard-Lesson 26-26 [] ['019.wav', '009.wav', '001.wav', '014.wav', '010.wav', '030.wav', '037.wav', '025.wav', '017.wav', '035.wav', '022.wav', '018.wav', '021.wav', '005.wav', '002.wav', '011.wav', '031.wav', '039.wav', '006.wav', '038.wav', '034.wav', '033.wav', '029.wav', '026.wav', '015.wav', '013.wav', '007.wav', '027.wav', '003.wav', '023.wav']\n"
     ]
    }
   ],
   "source": [
    "i = 0\n",
    "for root, dirs, files in os.walk(\"new_audio\"):\n",
    "    if i == 0:\n",
    "        i += 1\n",
    "        continue\n",
    "\n",
    "    files = [ f for f in files if f.split(\".\")[1] == \"wav\" ]\n",
    "    print( root, dirs, files )\n",
    "\n",
    "    for file in files:\n",
    "        new_filename = f\"{root}/{file.split('.')[0]}\"\n",
    "        wav_file = AudioSegment.from_wav(f\"{new_filename}.wav\")\n",
    "\n",
    "        # Convert WAV to MP3\n",
    "        wav_file.export(f\"{new_filename}.mp3\", format=\"mp3\")\n",
    "    \n",
    "    #     if i == 1:\n",
    "    #         break\n",
    "\n",
    "    # if i == 1:\n",
    "    #     break\n",
    "\n"
   ]
  },
  {
   "cell_type": "code",
   "execution_count": 11,
   "metadata": {},
   "outputs": [],
   "source": [
    "i = 0\n",
    "for root, dirs, files in os.walk(\"new_audio_joined\"):\n",
    "    if i == 0:\n",
    "        i += 1\n",
    "        continue\n",
    "\n",
    "    files = [ f for f in files if f.split(\".\")[1] == \"wav\" ]\n",
    "    print( root, dirs, files )\n",
    "\n",
    "    for file in files:\n",
    "        new_filename = f\"{root}/{file.split('.')[0]}\"\n",
    "        os.remove(f\"{new_filename}.wav\")\n",
    "\n",
    "    \n",
    "    #     if i == 1:\n",
    "    #         break\n",
    "\n",
    "    # if i == 1:\n",
    "    #     break\n",
    "\n"
   ]
  }
 ],
 "metadata": {
  "kernelspec": {
   "display_name": ".venv",
   "language": "python",
   "name": "python3"
  },
  "language_info": {
   "codemirror_mode": {
    "name": "ipython",
    "version": 3
   },
   "file_extension": ".py",
   "mimetype": "text/x-python",
   "name": "python",
   "nbconvert_exporter": "python",
   "pygments_lexer": "ipython3",
   "version": "3.10.14"
  }
 },
 "nbformat": 4,
 "nbformat_minor": 2
}
