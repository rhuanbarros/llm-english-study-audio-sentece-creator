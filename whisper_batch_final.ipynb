{
 "cells": [
  {
   "cell_type": "code",
   "execution_count": 1,
   "metadata": {},
   "outputs": [],
   "source": [
    "import pandas as pd"
   ]
  },
  {
   "cell_type": "code",
   "execution_count": 2,
   "metadata": {},
   "outputs": [
    {
     "name": "stderr",
     "output_type": "stream",
     "text": [
      "Special tokens have been added in the vocabulary, make sure the associated word embeddings are fine-tuned or trained.\n"
     ]
    }
   ],
   "source": [
    "import torch\n",
    "from transformers import AutoModelForSpeechSeq2Seq, AutoProcessor, pipeline\n",
    "from datasets import load_dataset\n",
    "\n",
    "\n",
    "device = \"cuda:0\" if torch.cuda.is_available() else \"cpu\"\n",
    "torch_dtype = torch.float16 if torch.cuda.is_available() else torch.float32\n",
    "\n",
    "# model_id = \"openai/whisper-large-v3\"\n",
    "# model_id = \"openai/whisper-small\"\n",
    "model_id = \"openai/whisper-medium\"\n",
    "# model_id = \"openai/whisper-tiny\"\n",
    "\n",
    "model = AutoModelForSpeechSeq2Seq.from_pretrained(\n",
    "    model_id, torch_dtype=torch_dtype, low_cpu_mem_usage=True, use_safetensors=True\n",
    ")\n",
    "model.to(device)\n",
    "\n",
    "processor = AutoProcessor.from_pretrained(model_id)\n",
    "\n",
    "pipe = pipeline(\n",
    "    \"automatic-speech-recognition\",\n",
    "    model=model,\n",
    "    tokenizer=processor.tokenizer,\n",
    "    feature_extractor=processor.feature_extractor,\n",
    "    max_new_tokens=128,\n",
    "    chunk_length_s=30,\n",
    "    batch_size=16,\n",
    "    return_timestamps=True,\n",
    "    torch_dtype=torch_dtype,\n",
    "    device=device,\n",
    ")\n"
   ]
  },
  {
   "cell_type": "code",
   "execution_count": 3,
   "metadata": {},
   "outputs": [
    {
     "data": {
      "text/plain": [
       "['Wizard-Lesson 13-13.wma',\n",
       " 'Wizard-Lesson 11-11.wma',\n",
       " 'Wizard-Lesson 18-18.wma',\n",
       " 'Wizard-Lesson 12-12.wma',\n",
       " 'Wizard-Lesson 22-22.wma',\n",
       " 'Wizard-Lesson 17-17.wma',\n",
       " 'Wizard-Lesson 7-07.wma',\n",
       " 'Wizard-Lesson 15-15.wma',\n",
       " 'Wizard-Lesson 10-10.wma',\n",
       " 'Wizard-Lesson 14-14.wma',\n",
       " 'Wizard-Lesson 5-05.wma',\n",
       " 'Wizard-Lesson 3-03.wma',\n",
       " 'Wizard-Lesson 25-25.wma',\n",
       " 'Wizard-Lesson 20-20.wma',\n",
       " 'Wizard-Lesson 16-16.wma',\n",
       " 'Wizard-Lesson 6-06.wma',\n",
       " 'Wizard-Lesson 2-02.wma',\n",
       " 'Wizard-Lesson 21-21.wma',\n",
       " 'Wizard-Lesson 4-04.wma',\n",
       " 'Wizard-Lesson 23-23.wma',\n",
       " 'Wizard-Lesson 30-30.wma',\n",
       " 'Wizard-Lesson 28-28.wma',\n",
       " 'Wizard-Lesson 29-29.wma',\n",
       " 'Wizard-Lesson 26-26.wma',\n",
       " 'Wizard-Lesson 9-09.wma',\n",
       " 'Wizard-Lesson 19-19.wma',\n",
       " 'Wizard-Lesson 8-08.wma',\n",
       " 'Wizard-Lesson 24-24.wma',\n",
       " 'Wizard-Lesson 1-01.wma',\n",
       " 'Wizard-Lesson 27-27.wma']"
      ]
     },
     "execution_count": 3,
     "metadata": {},
     "output_type": "execute_result"
    }
   ],
   "source": [
    "import os\n",
    "basepath = 'data/english_course_wma/Wizard Inglês Modulo 3 - Conversation'\n",
    "\n",
    "_, _, filenames = next( os.walk(basepath) )\n",
    "filenames"
   ]
  },
  {
   "cell_type": "code",
   "execution_count": 4,
   "metadata": {},
   "outputs": [],
   "source": [
    "filenames = sorted( filenames )"
   ]
  },
  {
   "cell_type": "code",
   "execution_count": 9,
   "metadata": {},
   "outputs": [
    {
     "name": "stdout",
     "output_type": "stream",
     "text": [
      "Wizard-Lesson 14-14.wma\n"
     ]
    },
    {
     "name": "stderr",
     "output_type": "stream",
     "text": [
      "Whisper did not predict an ending timestamp, which can happen if audio is cut off in the middle of a word. Also make sure WhisperTimeStampLogitsProcessor was used during generation.\n"
     ]
    },
    {
     "name": "stdout",
     "output_type": "stream",
     "text": [
      "Wizard-Lesson 15-15.wma\n",
      "Wizard-Lesson 16-16.wma\n",
      "Wizard-Lesson 17-17.wma\n",
      "Wizard-Lesson 18-18.wma\n",
      "Wizard-Lesson 19-19.wma\n",
      "Wizard-Lesson 2-02.wma\n",
      "Wizard-Lesson 20-20.wma\n"
     ]
    },
    {
     "name": "stderr",
     "output_type": "stream",
     "text": [
      "Whisper did not predict an ending timestamp, which can happen if audio is cut off in the middle of a word. Also make sure WhisperTimeStampLogitsProcessor was used during generation.\n"
     ]
    },
    {
     "name": "stdout",
     "output_type": "stream",
     "text": [
      "Wizard-Lesson 21-21.wma\n",
      "Wizard-Lesson 22-22.wma\n",
      "Wizard-Lesson 23-23.wma\n"
     ]
    },
    {
     "name": "stderr",
     "output_type": "stream",
     "text": [
      "Whisper did not predict an ending timestamp, which can happen if audio is cut off in the middle of a word. Also make sure WhisperTimeStampLogitsProcessor was used during generation.\n"
     ]
    },
    {
     "name": "stdout",
     "output_type": "stream",
     "text": [
      "Wizard-Lesson 24-24.wma\n",
      "Wizard-Lesson 25-25.wma\n"
     ]
    },
    {
     "name": "stderr",
     "output_type": "stream",
     "text": [
      "Whisper did not predict an ending timestamp, which can happen if audio is cut off in the middle of a word. Also make sure WhisperTimeStampLogitsProcessor was used during generation.\n"
     ]
    },
    {
     "name": "stdout",
     "output_type": "stream",
     "text": [
      "Wizard-Lesson 26-26.wma\n",
      "Wizard-Lesson 27-27.wma\n",
      "Wizard-Lesson 28-28.wma\n",
      "Wizard-Lesson 29-29.wma\n",
      "Wizard-Lesson 3-03.wma\n",
      "Wizard-Lesson 30-30.wma\n",
      "Wizard-Lesson 4-04.wma\n",
      "Wizard-Lesson 5-05.wma\n",
      "Wizard-Lesson 6-06.wma\n"
     ]
    },
    {
     "name": "stderr",
     "output_type": "stream",
     "text": [
      "Whisper did not predict an ending timestamp, which can happen if audio is cut off in the middle of a word. Also make sure WhisperTimeStampLogitsProcessor was used during generation.\n"
     ]
    },
    {
     "name": "stdout",
     "output_type": "stream",
     "text": [
      "Wizard-Lesson 7-07.wma\n",
      "Wizard-Lesson 8-08.wma\n",
      "Wizard-Lesson 9-09.wma\n"
     ]
    }
   ],
   "source": [
    "for filename in filenames[5:]:\n",
    "    data = []\n",
    "    print( filename )\n",
    "    complete_path = os.path.join(basepath, filename)\n",
    "\n",
    "    result = pipe(complete_path, generate_kwargs={\"language\": \"english\"})\n",
    "\n",
    "    for i, row in enumerate( result['chunks'] ):\n",
    "        # print( row['text'] )\n",
    "\n",
    "        data.append( row[\"text\"] )\n",
    "\n",
    "    df = pd.read_csv(\"transcript.csv\")\n",
    "\n",
    "    joined = \" \".join(data)\n",
    "    row = { \n",
    "        \"Filename\": filename,\n",
    "        \"Sentences\": joined\n",
    "        }\n",
    "\n",
    "    df = pd.concat( [df, pd.DataFrame([row])], ignore_index=True )\n",
    "\n",
    "    # print(df)\n",
    "    df.to_csv( \"transcript.csv\", index=False )"
   ]
  },
  {
   "cell_type": "code",
   "execution_count": null,
   "metadata": {},
   "outputs": [],
   "source": [
    "# df.to_csv( \"transcript.csv\" )"
   ]
  },
  {
   "cell_type": "code",
   "execution_count": 8,
   "metadata": {},
   "outputs": [
    {
     "data": {
      "text/html": [
       "<div>\n",
       "<style scoped>\n",
       "    .dataframe tbody tr th:only-of-type {\n",
       "        vertical-align: middle;\n",
       "    }\n",
       "\n",
       "    .dataframe tbody tr th {\n",
       "        vertical-align: top;\n",
       "    }\n",
       "\n",
       "    .dataframe thead th {\n",
       "        text-align: right;\n",
       "    }\n",
       "</style>\n",
       "<table border=\"1\" class=\"dataframe\">\n",
       "  <thead>\n",
       "    <tr style=\"text-align: right;\">\n",
       "      <th></th>\n",
       "      <th>Unnamed: 0.4</th>\n",
       "      <th>Unnamed: 0.3</th>\n",
       "      <th>Unnamed: 0.2</th>\n",
       "      <th>Unnamed: 0.1</th>\n",
       "      <th>Unnamed: 0</th>\n",
       "      <th>Filename</th>\n",
       "      <th>Sentences</th>\n",
       "    </tr>\n",
       "  </thead>\n",
       "  <tbody>\n",
       "    <tr>\n",
       "      <th>0</th>\n",
       "      <td>0.0</td>\n",
       "      <td>0.0</td>\n",
       "      <td>0.0</td>\n",
       "      <td>0.0</td>\n",
       "      <td>0.0</td>\n",
       "      <td>Wizard-Lesson 1-01.wma</td>\n",
       "      <td>Music  Wizard Book 3 Conversation Lesson 1  D...</td>\n",
       "    </tr>\n",
       "    <tr>\n",
       "      <th>1</th>\n",
       "      <td>1.0</td>\n",
       "      <td>1.0</td>\n",
       "      <td>1.0</td>\n",
       "      <td>1.0</td>\n",
       "      <td>1.0</td>\n",
       "      <td>Wizard-Lesson 10-10.wma</td>\n",
       "      <td>Conversation, Lesson 10, is he younger or old...</td>\n",
       "    </tr>\n",
       "    <tr>\n",
       "      <th>2</th>\n",
       "      <td>2.0</td>\n",
       "      <td>2.0</td>\n",
       "      <td>2.0</td>\n",
       "      <td>2.0</td>\n",
       "      <td>NaN</td>\n",
       "      <td>Wizard-Lesson 11-11.wma</td>\n",
       "      <td>Lesson 11  Conversation Lesson 11  Lesson 11 ...</td>\n",
       "    </tr>\n",
       "    <tr>\n",
       "      <th>3</th>\n",
       "      <td>3.0</td>\n",
       "      <td>3.0</td>\n",
       "      <td>3.0</td>\n",
       "      <td>NaN</td>\n",
       "      <td>NaN</td>\n",
       "      <td>Wizard-Lesson 12-12.wma</td>\n",
       "      <td>Conversation  Lesson 12  She put her sunglass...</td>\n",
       "    </tr>\n",
       "    <tr>\n",
       "      <th>4</th>\n",
       "      <td>NaN</td>\n",
       "      <td>NaN</td>\n",
       "      <td>NaN</td>\n",
       "      <td>NaN</td>\n",
       "      <td>NaN</td>\n",
       "      <td>Wizard-Lesson 12-12.wma</td>\n",
       "      <td>Conversation  Lesson 12  She put her sunglass...</td>\n",
       "    </tr>\n",
       "    <tr>\n",
       "      <th>5</th>\n",
       "      <td>NaN</td>\n",
       "      <td>NaN</td>\n",
       "      <td>NaN</td>\n",
       "      <td>NaN</td>\n",
       "      <td>NaN</td>\n",
       "      <td>Wizard-Lesson 13-13.wma</td>\n",
       "      <td>Conversation  Lesson 13  He invited Sandy to ...</td>\n",
       "    </tr>\n",
       "    <tr>\n",
       "      <th>6</th>\n",
       "      <td>NaN</td>\n",
       "      <td>NaN</td>\n",
       "      <td>NaN</td>\n",
       "      <td>NaN</td>\n",
       "      <td>NaN</td>\n",
       "      <td>Wizard-Lesson 14-14.wma</td>\n",
       "      <td>Conversation  Lesson 14  She left her laptop ...</td>\n",
       "    </tr>\n",
       "  </tbody>\n",
       "</table>\n",
       "</div>"
      ],
      "text/plain": [
       "   Unnamed: 0.4  Unnamed: 0.3  Unnamed: 0.2  Unnamed: 0.1  Unnamed: 0  \\\n",
       "0           0.0           0.0           0.0           0.0         0.0   \n",
       "1           1.0           1.0           1.0           1.0         1.0   \n",
       "2           2.0           2.0           2.0           2.0         NaN   \n",
       "3           3.0           3.0           3.0           NaN         NaN   \n",
       "4           NaN           NaN           NaN           NaN         NaN   \n",
       "5           NaN           NaN           NaN           NaN         NaN   \n",
       "6           NaN           NaN           NaN           NaN         NaN   \n",
       "\n",
       "                  Filename                                          Sentences  \n",
       "0   Wizard-Lesson 1-01.wma   Music  Wizard Book 3 Conversation Lesson 1  D...  \n",
       "1  Wizard-Lesson 10-10.wma   Conversation, Lesson 10, is he younger or old...  \n",
       "2  Wizard-Lesson 11-11.wma   Lesson 11  Conversation Lesson 11  Lesson 11 ...  \n",
       "3  Wizard-Lesson 12-12.wma   Conversation  Lesson 12  She put her sunglass...  \n",
       "4  Wizard-Lesson 12-12.wma   Conversation  Lesson 12  She put her sunglass...  \n",
       "5  Wizard-Lesson 13-13.wma   Conversation  Lesson 13  He invited Sandy to ...  \n",
       "6  Wizard-Lesson 14-14.wma   Conversation  Lesson 14  She left her laptop ...  "
      ]
     },
     "execution_count": 8,
     "metadata": {},
     "output_type": "execute_result"
    }
   ],
   "source": [
    "df"
   ]
  },
  {
   "cell_type": "code",
   "execution_count": null,
   "metadata": {},
   "outputs": [],
   "source": [
    "print( df.iloc[1,2] )"
   ]
  },
  {
   "cell_type": "code",
   "execution_count": null,
   "metadata": {},
   "outputs": [],
   "source": [
    "print( df.iloc[2,2] )"
   ]
  },
  {
   "cell_type": "code",
   "execution_count": null,
   "metadata": {},
   "outputs": [],
   "source": []
  }
 ],
 "metadata": {
  "kernelspec": {
   "display_name": "Python 3",
   "language": "python",
   "name": "python3"
  },
  "language_info": {
   "codemirror_mode": {
    "name": "ipython",
    "version": 3
   },
   "file_extension": ".py",
   "mimetype": "text/x-python",
   "name": "python",
   "nbconvert_exporter": "python",
   "pygments_lexer": "ipython3",
   "version": "3.11.8"
  }
 },
 "nbformat": 4,
 "nbformat_minor": 2
}
