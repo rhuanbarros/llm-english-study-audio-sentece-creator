{
 "cells": [
  {
   "cell_type": "code",
   "execution_count": 19,
   "metadata": {},
   "outputs": [
    {
     "data": {
      "application/vnd.jupyter.widget-view+json": {
       "model_id": "c907b2f0b1a8461393ec38528057ce63",
       "version_major": 2,
       "version_minor": 0
      },
      "text/plain": [
       "config.json:   0%|          | 0.00/1.98k [00:00<?, ?B/s]"
      ]
     },
     "metadata": {},
     "output_type": "display_data"
    },
    {
     "data": {
      "application/vnd.jupyter.widget-view+json": {
       "model_id": "da99f295ffcb430dbb2e1c245c8f3f33",
       "version_major": 2,
       "version_minor": 0
      },
      "text/plain": [
       "model.safetensors:   0%|          | 0.00/151M [00:00<?, ?B/s]"
      ]
     },
     "metadata": {},
     "output_type": "display_data"
    },
    {
     "data": {
      "application/vnd.jupyter.widget-view+json": {
       "model_id": "7b181cf20fea4538aa5d3aca5331290c",
       "version_major": 2,
       "version_minor": 0
      },
      "text/plain": [
       "generation_config.json:   0%|          | 0.00/3.75k [00:00<?, ?B/s]"
      ]
     },
     "metadata": {},
     "output_type": "display_data"
    },
    {
     "data": {
      "application/vnd.jupyter.widget-view+json": {
       "model_id": "ec696493a1bf452eb44a9d13bc4f886d",
       "version_major": 2,
       "version_minor": 0
      },
      "text/plain": [
       "preprocessor_config.json:   0%|          | 0.00/185k [00:00<?, ?B/s]"
      ]
     },
     "metadata": {},
     "output_type": "display_data"
    },
    {
     "data": {
      "application/vnd.jupyter.widget-view+json": {
       "model_id": "4516091ac171403db08a757f34d6f664",
       "version_major": 2,
       "version_minor": 0
      },
      "text/plain": [
       "tokenizer_config.json:   0%|          | 0.00/283k [00:00<?, ?B/s]"
      ]
     },
     "metadata": {},
     "output_type": "display_data"
    },
    {
     "data": {
      "application/vnd.jupyter.widget-view+json": {
       "model_id": "c305e33e48b348b2a39230ad6f779a3b",
       "version_major": 2,
       "version_minor": 0
      },
      "text/plain": [
       "vocab.json:   0%|          | 0.00/836k [00:00<?, ?B/s]"
      ]
     },
     "metadata": {},
     "output_type": "display_data"
    },
    {
     "data": {
      "application/vnd.jupyter.widget-view+json": {
       "model_id": "a591343b3ed94cc6992cd795811a5879",
       "version_major": 2,
       "version_minor": 0
      },
      "text/plain": [
       "tokenizer.json:   0%|          | 0.00/2.48M [00:00<?, ?B/s]"
      ]
     },
     "metadata": {},
     "output_type": "display_data"
    },
    {
     "data": {
      "application/vnd.jupyter.widget-view+json": {
       "model_id": "a4fb056f384e4630b6a20e854bd37936",
       "version_major": 2,
       "version_minor": 0
      },
      "text/plain": [
       "merges.txt:   0%|          | 0.00/494k [00:00<?, ?B/s]"
      ]
     },
     "metadata": {},
     "output_type": "display_data"
    },
    {
     "data": {
      "application/vnd.jupyter.widget-view+json": {
       "model_id": "ebf4848b1fdf48fa87bd6ce8649c3cf1",
       "version_major": 2,
       "version_minor": 0
      },
      "text/plain": [
       "normalizer.json:   0%|          | 0.00/52.7k [00:00<?, ?B/s]"
      ]
     },
     "metadata": {},
     "output_type": "display_data"
    },
    {
     "data": {
      "application/vnd.jupyter.widget-view+json": {
       "model_id": "8fb1a8abbf134eab8ebb78e619428b86",
       "version_major": 2,
       "version_minor": 0
      },
      "text/plain": [
       "added_tokens.json:   0%|          | 0.00/34.6k [00:00<?, ?B/s]"
      ]
     },
     "metadata": {},
     "output_type": "display_data"
    },
    {
     "data": {
      "application/vnd.jupyter.widget-view+json": {
       "model_id": "bb3ece152d5e4953a4236d9fca841dd8",
       "version_major": 2,
       "version_minor": 0
      },
      "text/plain": [
       "special_tokens_map.json:   0%|          | 0.00/2.19k [00:00<?, ?B/s]"
      ]
     },
     "metadata": {},
     "output_type": "display_data"
    },
    {
     "name": "stderr",
     "output_type": "stream",
     "text": [
      "Special tokens have been added in the vocabulary, make sure the associated word embeddings are fine-tuned or trained.\n"
     ]
    }
   ],
   "source": [
    "import torch\n",
    "from transformers import AutoModelForSpeechSeq2Seq, AutoProcessor, pipeline\n",
    "from datasets import load_dataset\n",
    "\n",
    "\n",
    "device = \"cuda:0\" if torch.cuda.is_available() else \"cpu\"\n",
    "torch_dtype = torch.float16 if torch.cuda.is_available() else torch.float32\n",
    "\n",
    "# model_id = \"openai/whisper-large-v3\"\n",
    "# model_id = \"openai/whisper-small\"\n",
    "# model_id = \"openai/whisper-medium\"\n",
    "model_id = \"openai/whisper-tiny\"\n",
    "\n",
    "model = AutoModelForSpeechSeq2Seq.from_pretrained(\n",
    "    model_id, torch_dtype=torch_dtype, low_cpu_mem_usage=True, use_safetensors=True\n",
    ")\n",
    "model.to(device)\n",
    "\n",
    "processor = AutoProcessor.from_pretrained(model_id)\n",
    "\n",
    "pipe = pipeline(\n",
    "    \"automatic-speech-recognition\",\n",
    "    model=model,\n",
    "    tokenizer=processor.tokenizer,\n",
    "    feature_extractor=processor.feature_extractor,\n",
    "    max_new_tokens=128,\n",
    "    chunk_length_s=30,\n",
    "    batch_size=16,\n",
    "    return_timestamps=True,\n",
    "    torch_dtype=torch_dtype,\n",
    "    device=device,\n",
    ")\n"
   ]
  },
  {
   "cell_type": "code",
   "execution_count": 20,
   "metadata": {},
   "outputs": [
    {
     "data": {
      "text/plain": [
       "['Wizard-Lesson 13-13.wma',\n",
       " 'Wizard-Lesson 11-11.wma',\n",
       " 'Wizard-Lesson 18-18.wma',\n",
       " 'Wizard-Lesson 12-12.wma',\n",
       " 'Wizard-Lesson 22-22.wma',\n",
       " 'Wizard-Lesson 17-17.wma',\n",
       " 'Wizard-Lesson 7-07.wma',\n",
       " 'Wizard-Lesson 15-15.wma',\n",
       " 'Wizard-Lesson 10-10.wma',\n",
       " 'Wizard-Lesson 14-14.wma',\n",
       " 'Wizard-Lesson 5-05.wma',\n",
       " 'Wizard-Lesson 3-03.wma',\n",
       " 'Wizard-Lesson 25-25.wma',\n",
       " 'Wizard-Lesson 20-20.wma',\n",
       " 'Wizard-Lesson 16-16.wma',\n",
       " 'Wizard-Lesson 6-06.wma',\n",
       " 'Wizard-Lesson 2-02.wma',\n",
       " 'Wizard-Lesson 21-21.wma',\n",
       " 'Wizard-Lesson 4-04.wma',\n",
       " 'Wizard-Lesson 23-23.wma',\n",
       " 'Wizard-Lesson 30-30.wma',\n",
       " 'Wizard-Lesson 28-28.wma',\n",
       " 'Wizard-Lesson 29-29.wma',\n",
       " 'Wizard-Lesson 26-26.wma',\n",
       " 'Wizard-Lesson 9-09.wma',\n",
       " 'Wizard-Lesson 19-19.wma',\n",
       " 'Wizard-Lesson 8-08.wma',\n",
       " 'Wizard-Lesson 24-24.wma',\n",
       " 'Wizard-Lesson 1-01.wma',\n",
       " 'Wizard-Lesson 27-27.wma']"
      ]
     },
     "execution_count": 20,
     "metadata": {},
     "output_type": "execute_result"
    }
   ],
   "source": [
    "import os\n",
    "basepath = 'data/english_course_wma/Wizard Inglês Modulo 3 - Conversation'\n",
    "\n",
    "_, _, filenames = next( os.walk(basepath) )\n",
    "filenames"
   ]
  },
  {
   "cell_type": "code",
   "execution_count": 21,
   "metadata": {},
   "outputs": [],
   "source": [
    "filenames = sorted( filenames )"
   ]
  },
  {
   "cell_type": "code",
   "execution_count": 28,
   "metadata": {},
   "outputs": [
    {
     "name": "stdout",
     "output_type": "stream",
     "text": [
      "Wizard-Lesson 10-10.wma\n"
     ]
    }
   ],
   "source": [
    "data = []\n",
    "for filename in filenames[1:2]:\n",
    "    print( filename )\n",
    "    complete_path = os.path.join(basepath, filename)\n",
    "\n",
    "    result = pipe(complete_path, generate_kwargs={\"language\": \"english\"})\n",
    "\n",
    "    for i, row in enumerate( result['chunks'] ):\n",
    "        # print( row['text'] )\n",
    "    \n",
    "        row = { \n",
    "            \"Filename\": filename,\n",
    "            \"Sentence order\": i,\n",
    "            \"Sentence\": row[\"text\"]\n",
    "            }\n",
    "        data.append( row )\n",
    "\n",
    "# data"
   ]
  },
  {
   "cell_type": "code",
   "execution_count": 25,
   "metadata": {},
   "outputs": [
    {
     "data": {
      "text/html": [
       "<div>\n",
       "<style scoped>\n",
       "    .dataframe tbody tr th:only-of-type {\n",
       "        vertical-align: middle;\n",
       "    }\n",
       "\n",
       "    .dataframe tbody tr th {\n",
       "        vertical-align: top;\n",
       "    }\n",
       "\n",
       "    .dataframe thead th {\n",
       "        text-align: right;\n",
       "    }\n",
       "</style>\n",
       "<table border=\"1\" class=\"dataframe\">\n",
       "  <thead>\n",
       "    <tr style=\"text-align: right;\">\n",
       "      <th></th>\n",
       "      <th>Filename</th>\n",
       "      <th>Sentence order</th>\n",
       "      <th>Sentence</th>\n",
       "    </tr>\n",
       "  </thead>\n",
       "  <tbody>\n",
       "    <tr>\n",
       "      <th>0</th>\n",
       "      <td>Wizard-Lesson 1-01.wma</td>\n",
       "      <td>0</td>\n",
       "      <td>Music</td>\n",
       "    </tr>\n",
       "    <tr>\n",
       "      <th>1</th>\n",
       "      <td>Wizard-Lesson 1-01.wma</td>\n",
       "      <td>1</td>\n",
       "      <td>Wizard Book 3 Conversation Lesson 1</td>\n",
       "    </tr>\n",
       "    <tr>\n",
       "      <th>2</th>\n",
       "      <td>Wizard-Lesson 1-01.wma</td>\n",
       "      <td>2</td>\n",
       "      <td>Did the boy pay $1 for the paper at the newss...</td>\n",
       "    </tr>\n",
       "    <tr>\n",
       "      <th>3</th>\n",
       "      <td>Wizard-Lesson 1-01.wma</td>\n",
       "      <td>3</td>\n",
       "      <td>Yes, he did. He paid $1 for the paper at the ...</td>\n",
       "    </tr>\n",
       "    <tr>\n",
       "      <th>4</th>\n",
       "      <td>Wizard-Lesson 1-01.wma</td>\n",
       "      <td>4</td>\n",
       "      <td>Did this secretary put the document on the ta...</td>\n",
       "    </tr>\n",
       "    <tr>\n",
       "      <th>5</th>\n",
       "      <td>Wizard-Lesson 1-01.wma</td>\n",
       "      <td>5</td>\n",
       "      <td>Yes, she did.</td>\n",
       "    </tr>\n",
       "    <tr>\n",
       "      <th>6</th>\n",
       "      <td>Wizard-Lesson 1-01.wma</td>\n",
       "      <td>6</td>\n",
       "      <td>She put the document on the table.</td>\n",
       "    </tr>\n",
       "    <tr>\n",
       "      <th>7</th>\n",
       "      <td>Wizard-Lesson 1-01.wma</td>\n",
       "      <td>7</td>\n",
       "      <td>No, she didn't.</td>\n",
       "    </tr>\n",
       "    <tr>\n",
       "      <th>8</th>\n",
       "      <td>Wizard-Lesson 1-01.wma</td>\n",
       "      <td>8</td>\n",
       "      <td>She didn't put the information from the compu...</td>\n",
       "    </tr>\n",
       "    <tr>\n",
       "      <th>9</th>\n",
       "      <td>Wizard-Lesson 1-01.wma</td>\n",
       "      <td>9</td>\n",
       "      <td>Yes, I did. I accessed the information from t...</td>\n",
       "    </tr>\n",
       "    <tr>\n",
       "      <th>10</th>\n",
       "      <td>Wizard-Lesson 1-01.wma</td>\n",
       "      <td>10</td>\n",
       "      <td>No, I didn't. I didn't access the information...</td>\n",
       "    </tr>\n",
       "    <tr>\n",
       "      <th>11</th>\n",
       "      <td>Wizard-Lesson 1-01.wma</td>\n",
       "      <td>11</td>\n",
       "      <td>Did your mom do her Christmas shopping early ...</td>\n",
       "    </tr>\n",
       "    <tr>\n",
       "      <th>12</th>\n",
       "      <td>Wizard-Lesson 1-01.wma</td>\n",
       "      <td>12</td>\n",
       "      <td>Yes, she did.</td>\n",
       "    </tr>\n",
       "    <tr>\n",
       "      <th>13</th>\n",
       "      <td>Wizard-Lesson 1-01.wma</td>\n",
       "      <td>13</td>\n",
       "      <td>She did her Christmas shopping early this year.</td>\n",
       "    </tr>\n",
       "    <tr>\n",
       "      <th>14</th>\n",
       "      <td>Wizard-Lesson 1-01.wma</td>\n",
       "      <td>14</td>\n",
       "      <td>No, she didn't. She didn't do her Christmas s...</td>\n",
       "    </tr>\n",
       "    <tr>\n",
       "      <th>15</th>\n",
       "      <td>Wizard-Lesson 1-01.wma</td>\n",
       "      <td>15</td>\n",
       "      <td>Did they eat Brazilian food at the restaurant...</td>\n",
       "    </tr>\n",
       "    <tr>\n",
       "      <th>16</th>\n",
       "      <td>Wizard-Lesson 1-01.wma</td>\n",
       "      <td>16</td>\n",
       "      <td>They ate Brazilian food at the restaurant.</td>\n",
       "    </tr>\n",
       "    <tr>\n",
       "      <th>17</th>\n",
       "      <td>Wizard-Lesson 1-01.wma</td>\n",
       "      <td>17</td>\n",
       "      <td>No, they didn't.</td>\n",
       "    </tr>\n",
       "    <tr>\n",
       "      <th>18</th>\n",
       "      <td>Wizard-Lesson 1-01.wma</td>\n",
       "      <td>18</td>\n",
       "      <td>They didn't eat Brazilian food at the restaur...</td>\n",
       "    </tr>\n",
       "    <tr>\n",
       "      <th>19</th>\n",
       "      <td>Wizard-Lesson 1-01.wma</td>\n",
       "      <td>19</td>\n",
       "      <td>Yes, she is.</td>\n",
       "    </tr>\n",
       "    <tr>\n",
       "      <th>20</th>\n",
       "      <td>Wizard-Lesson 1-01.wma</td>\n",
       "      <td>20</td>\n",
       "      <td>She is doing her homework in her bedroom.</td>\n",
       "    </tr>\n",
       "    <tr>\n",
       "      <th>21</th>\n",
       "      <td>Wizard-Lesson 1-01.wma</td>\n",
       "      <td>21</td>\n",
       "      <td>No, she isn't. She isn't doing her homework i...</td>\n",
       "    </tr>\n",
       "    <tr>\n",
       "      <th>22</th>\n",
       "      <td>Wizard-Lesson 1-01.wma</td>\n",
       "      <td>22</td>\n",
       "      <td>Are the children playing in the snow?</td>\n",
       "    </tr>\n",
       "    <tr>\n",
       "      <th>23</th>\n",
       "      <td>Wizard-Lesson 1-01.wma</td>\n",
       "      <td>23</td>\n",
       "      <td>Yes, they are. They are playing in the snow.</td>\n",
       "    </tr>\n",
       "    <tr>\n",
       "      <th>24</th>\n",
       "      <td>Wizard-Lesson 1-01.wma</td>\n",
       "      <td>24</td>\n",
       "      <td>Now they aren't. They aren't playing in the s...</td>\n",
       "    </tr>\n",
       "    <tr>\n",
       "      <th>25</th>\n",
       "      <td>Wizard-Lesson 1-01.wma</td>\n",
       "      <td>25</td>\n",
       "      <td>Is your son putting the toys in the room?</td>\n",
       "    </tr>\n",
       "    <tr>\n",
       "      <th>26</th>\n",
       "      <td>Wizard-Lesson 1-01.wma</td>\n",
       "      <td>26</td>\n",
       "      <td>Yes he is.</td>\n",
       "    </tr>\n",
       "    <tr>\n",
       "      <th>27</th>\n",
       "      <td>Wizard-Lesson 1-01.wma</td>\n",
       "      <td>27</td>\n",
       "      <td>He is putting the toys in the room.</td>\n",
       "    </tr>\n",
       "    <tr>\n",
       "      <th>28</th>\n",
       "      <td>Wizard-Lesson 1-01.wma</td>\n",
       "      <td>28</td>\n",
       "      <td>No, he isn't. He isn't putting the toys in th...</td>\n",
       "    </tr>\n",
       "    <tr>\n",
       "      <th>29</th>\n",
       "      <td>Wizard-Lesson 1-01.wma</td>\n",
       "      <td>29</td>\n",
       "      <td>Is Jane accessing her email every day?</td>\n",
       "    </tr>\n",
       "    <tr>\n",
       "      <th>30</th>\n",
       "      <td>Wizard-Lesson 1-01.wma</td>\n",
       "      <td>30</td>\n",
       "      <td>Yes she is. She is accessing her email every ...</td>\n",
       "    </tr>\n",
       "    <tr>\n",
       "      <th>31</th>\n",
       "      <td>Wizard-Lesson 1-01.wma</td>\n",
       "      <td>31</td>\n",
       "      <td>Is the man paying for the groceries?</td>\n",
       "    </tr>\n",
       "    <tr>\n",
       "      <th>32</th>\n",
       "      <td>Wizard-Lesson 1-01.wma</td>\n",
       "      <td>32</td>\n",
       "      <td>Yes he is.</td>\n",
       "    </tr>\n",
       "    <tr>\n",
       "      <th>33</th>\n",
       "      <td>Wizard-Lesson 1-01.wma</td>\n",
       "      <td>33</td>\n",
       "      <td>He is paying for the groceries.</td>\n",
       "    </tr>\n",
       "    <tr>\n",
       "      <th>34</th>\n",
       "      <td>Wizard-Lesson 1-01.wma</td>\n",
       "      <td>34</td>\n",
       "      <td>No he isn't.</td>\n",
       "    </tr>\n",
       "    <tr>\n",
       "      <th>35</th>\n",
       "      <td>Wizard-Lesson 1-01.wma</td>\n",
       "      <td>35</td>\n",
       "      <td>He is not paying for the groceries.</td>\n",
       "    </tr>\n",
       "  </tbody>\n",
       "</table>\n",
       "</div>"
      ],
      "text/plain": [
       "                  Filename  Sentence order  \\\n",
       "0   Wizard-Lesson 1-01.wma               0   \n",
       "1   Wizard-Lesson 1-01.wma               1   \n",
       "2   Wizard-Lesson 1-01.wma               2   \n",
       "3   Wizard-Lesson 1-01.wma               3   \n",
       "4   Wizard-Lesson 1-01.wma               4   \n",
       "5   Wizard-Lesson 1-01.wma               5   \n",
       "6   Wizard-Lesson 1-01.wma               6   \n",
       "7   Wizard-Lesson 1-01.wma               7   \n",
       "8   Wizard-Lesson 1-01.wma               8   \n",
       "9   Wizard-Lesson 1-01.wma               9   \n",
       "10  Wizard-Lesson 1-01.wma              10   \n",
       "11  Wizard-Lesson 1-01.wma              11   \n",
       "12  Wizard-Lesson 1-01.wma              12   \n",
       "13  Wizard-Lesson 1-01.wma              13   \n",
       "14  Wizard-Lesson 1-01.wma              14   \n",
       "15  Wizard-Lesson 1-01.wma              15   \n",
       "16  Wizard-Lesson 1-01.wma              16   \n",
       "17  Wizard-Lesson 1-01.wma              17   \n",
       "18  Wizard-Lesson 1-01.wma              18   \n",
       "19  Wizard-Lesson 1-01.wma              19   \n",
       "20  Wizard-Lesson 1-01.wma              20   \n",
       "21  Wizard-Lesson 1-01.wma              21   \n",
       "22  Wizard-Lesson 1-01.wma              22   \n",
       "23  Wizard-Lesson 1-01.wma              23   \n",
       "24  Wizard-Lesson 1-01.wma              24   \n",
       "25  Wizard-Lesson 1-01.wma              25   \n",
       "26  Wizard-Lesson 1-01.wma              26   \n",
       "27  Wizard-Lesson 1-01.wma              27   \n",
       "28  Wizard-Lesson 1-01.wma              28   \n",
       "29  Wizard-Lesson 1-01.wma              29   \n",
       "30  Wizard-Lesson 1-01.wma              30   \n",
       "31  Wizard-Lesson 1-01.wma              31   \n",
       "32  Wizard-Lesson 1-01.wma              32   \n",
       "33  Wizard-Lesson 1-01.wma              33   \n",
       "34  Wizard-Lesson 1-01.wma              34   \n",
       "35  Wizard-Lesson 1-01.wma              35   \n",
       "\n",
       "                                             Sentence  \n",
       "0                                               Music  \n",
       "1                 Wizard Book 3 Conversation Lesson 1  \n",
       "2    Did the boy pay $1 for the paper at the newss...  \n",
       "3    Yes, he did. He paid $1 for the paper at the ...  \n",
       "4    Did this secretary put the document on the ta...  \n",
       "5                                       Yes, she did.  \n",
       "6                  She put the document on the table.  \n",
       "7                                     No, she didn't.  \n",
       "8    She didn't put the information from the compu...  \n",
       "9    Yes, I did. I accessed the information from t...  \n",
       "10   No, I didn't. I didn't access the information...  \n",
       "11   Did your mom do her Christmas shopping early ...  \n",
       "12                                      Yes, she did.  \n",
       "13    She did her Christmas shopping early this year.  \n",
       "14   No, she didn't. She didn't do her Christmas s...  \n",
       "15   Did they eat Brazilian food at the restaurant...  \n",
       "16         They ate Brazilian food at the restaurant.  \n",
       "17                                   No, they didn't.  \n",
       "18   They didn't eat Brazilian food at the restaur...  \n",
       "19                                       Yes, she is.  \n",
       "20          She is doing her homework in her bedroom.  \n",
       "21   No, she isn't. She isn't doing her homework i...  \n",
       "22              Are the children playing in the snow?  \n",
       "23       Yes, they are. They are playing in the snow.  \n",
       "24   Now they aren't. They aren't playing in the s...  \n",
       "25          Is your son putting the toys in the room?  \n",
       "26                                         Yes he is.  \n",
       "27                He is putting the toys in the room.  \n",
       "28   No, he isn't. He isn't putting the toys in th...  \n",
       "29             Is Jane accessing her email every day?  \n",
       "30   Yes she is. She is accessing her email every ...  \n",
       "31               Is the man paying for the groceries?  \n",
       "32                                         Yes he is.  \n",
       "33                    He is paying for the groceries.  \n",
       "34                                       No he isn't.  \n",
       "35                He is not paying for the groceries.  "
      ]
     },
     "execution_count": 25,
     "metadata": {},
     "output_type": "execute_result"
    }
   ],
   "source": [
    "import pandas as pd\n",
    "\n",
    "df = pd.DataFrame(data)\n",
    "df"
   ]
  },
  {
   "cell_type": "code",
   "execution_count": 32,
   "metadata": {},
   "outputs": [],
   "source": [
    "df = pd.concat( [df, pd.DataFrame(data)], ignore_index=True )"
   ]
  },
  {
   "cell_type": "code",
   "execution_count": 33,
   "metadata": {},
   "outputs": [
    {
     "data": {
      "text/html": [
       "<div>\n",
       "<style scoped>\n",
       "    .dataframe tbody tr th:only-of-type {\n",
       "        vertical-align: middle;\n",
       "    }\n",
       "\n",
       "    .dataframe tbody tr th {\n",
       "        vertical-align: top;\n",
       "    }\n",
       "\n",
       "    .dataframe thead th {\n",
       "        text-align: right;\n",
       "    }\n",
       "</style>\n",
       "<table border=\"1\" class=\"dataframe\">\n",
       "  <thead>\n",
       "    <tr style=\"text-align: right;\">\n",
       "      <th></th>\n",
       "      <th>Filename</th>\n",
       "      <th>Sentence order</th>\n",
       "      <th>Sentence</th>\n",
       "    </tr>\n",
       "  </thead>\n",
       "  <tbody>\n",
       "    <tr>\n",
       "      <th>59</th>\n",
       "      <td>Wizard-Lesson 10-10.wma</td>\n",
       "      <td>23</td>\n",
       "      <td>What about a Porsche?</td>\n",
       "    </tr>\n",
       "    <tr>\n",
       "      <th>60</th>\n",
       "      <td>Wizard-Lesson 10-10.wma</td>\n",
       "      <td>24</td>\n",
       "      <td>Isn't a Ferrari faster?</td>\n",
       "    </tr>\n",
       "    <tr>\n",
       "      <th>61</th>\n",
       "      <td>Wizard-Lesson 10-10.wma</td>\n",
       "      <td>25</td>\n",
       "      <td>What is the largest state in the US?</td>\n",
       "    </tr>\n",
       "    <tr>\n",
       "      <th>62</th>\n",
       "      <td>Wizard-Lesson 10-10.wma</td>\n",
       "      <td>26</td>\n",
       "      <td>What about California?</td>\n",
       "    </tr>\n",
       "    <tr>\n",
       "      <th>63</th>\n",
       "      <td>Wizard-Lesson 10-10.wma</td>\n",
       "      <td>27</td>\n",
       "      <td>Isn't Texas larger</td>\n",
       "    </tr>\n",
       "  </tbody>\n",
       "</table>\n",
       "</div>"
      ],
      "text/plain": [
       "                   Filename  Sentence order  \\\n",
       "59  Wizard-Lesson 10-10.wma              23   \n",
       "60  Wizard-Lesson 10-10.wma              24   \n",
       "61  Wizard-Lesson 10-10.wma              25   \n",
       "62  Wizard-Lesson 10-10.wma              26   \n",
       "63  Wizard-Lesson 10-10.wma              27   \n",
       "\n",
       "                                 Sentence  \n",
       "59                  What about a Porsche?  \n",
       "60                Isn't a Ferrari faster?  \n",
       "61   What is the largest state in the US?  \n",
       "62                 What about California?  \n",
       "63                     Isn't Texas larger  "
      ]
     },
     "execution_count": 33,
     "metadata": {},
     "output_type": "execute_result"
    }
   ],
   "source": [
    "df.tail()"
   ]
  },
  {
   "cell_type": "code",
   "execution_count": 39,
   "metadata": {},
   "outputs": [
    {
     "name": "stdout",
     "output_type": "stream",
     "text": [
      " Conversation, Lesson 10, is he younger or older than her?\n",
      " He is younger than her.\n",
      " I thought he was older than her.\n",
      " How old do you think she is?\n",
      " I think she's 40.\n",
      " I don't think she's older than 35.\n",
      " What were they doing there? I don't know what they were doing there.\n",
      " I think they were checking their emails. Who is the youngest in your class?\n",
      " I think Karen is the youngest.\n",
      " Isn't James younger than she is?\n",
      " Who is the oldest student in your class?\n",
      " I think Mark is the oldest.\n",
      " Isn't Jim older than Mark?\n",
      " What is the most difficult class in school?\n",
      " I think it's math.\n",
      " Isn't it biology?\n",
      " What is the easiest class in school?\n",
      " I think it's English.\n",
      " Isn't it Portuguese?\n",
      " When is the best time for us to go there?\n",
      " What about 10 o'clock?\n",
      " Isn't it 11 o'clock better?\n",
      " What is the fastest car that you know?\n",
      " What about a Porsche?\n",
      " Isn't a Ferrari faster?\n",
      " What is the largest state in the US?\n",
      " What about California?\n",
      " Isn't Texas larger\n"
     ]
    }
   ],
   "source": [
    "for e in df[df[\"Filename\"] == 'Wizard-Lesson 10-10.wma' ]['Sentence']:\n",
    "    print(e)"
   ]
  },
  {
   "cell_type": "code",
   "execution_count": 27,
   "metadata": {},
   "outputs": [],
   "source": [
    "df.to_csv( os.path.join( \"data_transcript\", filename ) )"
   ]
  },
  {
   "cell_type": "code",
   "execution_count": null,
   "metadata": {},
   "outputs": [],
   "source": []
  },
  {
   "cell_type": "code",
   "execution_count": null,
   "metadata": {},
   "outputs": [],
   "source": []
  },
  {
   "cell_type": "code",
   "execution_count": null,
   "metadata": {},
   "outputs": [],
   "source": []
  },
  {
   "cell_type": "code",
   "execution_count": null,
   "metadata": {},
   "outputs": [],
   "source": []
  },
  {
   "cell_type": "code",
   "execution_count": null,
   "metadata": {},
   "outputs": [],
   "source": []
  }
 ],
 "metadata": {
  "kernelspec": {
   "display_name": "Python 3",
   "language": "python",
   "name": "python3"
  },
  "language_info": {
   "codemirror_mode": {
    "name": "ipython",
    "version": 3
   },
   "file_extension": ".py",
   "mimetype": "text/x-python",
   "name": "python",
   "nbconvert_exporter": "python",
   "pygments_lexer": "ipython3",
   "version": "3.11.8"
  }
 },
 "nbformat": 4,
 "nbformat_minor": 2
}
