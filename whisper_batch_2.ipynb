{
 "cells": [
  {
   "cell_type": "code",
   "execution_count": 7,
   "metadata": {},
   "outputs": [],
   "source": [
    "import pandas as pd"
   ]
  },
  {
   "cell_type": "code",
   "execution_count": 1,
   "metadata": {},
   "outputs": [
    {
     "name": "stderr",
     "output_type": "stream",
     "text": [
      "Special tokens have been added in the vocabulary, make sure the associated word embeddings are fine-tuned or trained.\n"
     ]
    }
   ],
   "source": [
    "import torch\n",
    "from transformers import AutoModelForSpeechSeq2Seq, AutoProcessor, pipeline\n",
    "from datasets import load_dataset\n",
    "\n",
    "\n",
    "device = \"cuda:0\" if torch.cuda.is_available() else \"cpu\"\n",
    "torch_dtype = torch.float16 if torch.cuda.is_available() else torch.float32\n",
    "\n",
    "# model_id = \"openai/whisper-large-v3\"\n",
    "# model_id = \"openai/whisper-small\"\n",
    "# model_id = \"openai/whisper-medium\"\n",
    "model_id = \"openai/whisper-tiny\"\n",
    "\n",
    "model = AutoModelForSpeechSeq2Seq.from_pretrained(\n",
    "    model_id, torch_dtype=torch_dtype, low_cpu_mem_usage=True, use_safetensors=True\n",
    ")\n",
    "model.to(device)\n",
    "\n",
    "processor = AutoProcessor.from_pretrained(model_id)\n",
    "\n",
    "pipe = pipeline(\n",
    "    \"automatic-speech-recognition\",\n",
    "    model=model,\n",
    "    tokenizer=processor.tokenizer,\n",
    "    feature_extractor=processor.feature_extractor,\n",
    "    max_new_tokens=128,\n",
    "    chunk_length_s=30,\n",
    "    batch_size=16,\n",
    "    return_timestamps=True,\n",
    "    torch_dtype=torch_dtype,\n",
    "    device=device,\n",
    ")\n"
   ]
  },
  {
   "cell_type": "code",
   "execution_count": 2,
   "metadata": {},
   "outputs": [
    {
     "data": {
      "text/plain": [
       "['Wizard-Lesson 13-13.wma',\n",
       " 'Wizard-Lesson 11-11.wma',\n",
       " 'Wizard-Lesson 18-18.wma',\n",
       " 'Wizard-Lesson 12-12.wma',\n",
       " 'Wizard-Lesson 22-22.wma',\n",
       " 'Wizard-Lesson 17-17.wma',\n",
       " 'Wizard-Lesson 7-07.wma',\n",
       " 'Wizard-Lesson 15-15.wma',\n",
       " 'Wizard-Lesson 10-10.wma',\n",
       " 'Wizard-Lesson 14-14.wma',\n",
       " 'Wizard-Lesson 5-05.wma',\n",
       " 'Wizard-Lesson 3-03.wma',\n",
       " 'Wizard-Lesson 25-25.wma',\n",
       " 'Wizard-Lesson 20-20.wma',\n",
       " 'Wizard-Lesson 16-16.wma',\n",
       " 'Wizard-Lesson 6-06.wma',\n",
       " 'Wizard-Lesson 2-02.wma',\n",
       " 'Wizard-Lesson 21-21.wma',\n",
       " 'Wizard-Lesson 4-04.wma',\n",
       " 'Wizard-Lesson 23-23.wma',\n",
       " 'Wizard-Lesson 30-30.wma',\n",
       " 'Wizard-Lesson 28-28.wma',\n",
       " 'Wizard-Lesson 29-29.wma',\n",
       " 'Wizard-Lesson 26-26.wma',\n",
       " 'Wizard-Lesson 9-09.wma',\n",
       " 'Wizard-Lesson 19-19.wma',\n",
       " 'Wizard-Lesson 8-08.wma',\n",
       " 'Wizard-Lesson 24-24.wma',\n",
       " 'Wizard-Lesson 1-01.wma',\n",
       " 'Wizard-Lesson 27-27.wma']"
      ]
     },
     "execution_count": 2,
     "metadata": {},
     "output_type": "execute_result"
    }
   ],
   "source": [
    "import os\n",
    "basepath = 'data/english_course_wma/Wizard Inglês Modulo 3 - Conversation'\n",
    "\n",
    "_, _, filenames = next( os.walk(basepath) )\n",
    "filenames"
   ]
  },
  {
   "cell_type": "code",
   "execution_count": 3,
   "metadata": {},
   "outputs": [],
   "source": [
    "filenames = sorted( filenames )"
   ]
  },
  {
   "cell_type": "code",
   "execution_count": 26,
   "metadata": {},
   "outputs": [
    {
     "name": "stdout",
     "output_type": "stream",
     "text": [
      "Wizard-Lesson 10-10.wma\n"
     ]
    }
   ],
   "source": [
    "data = []\n",
    "for filename in filenames[1:2]:\n",
    "    print( filename )\n",
    "    complete_path = os.path.join(basepath, filename)\n",
    "\n",
    "    result = pipe(complete_path, generate_kwargs={\"language\": \"english\"})\n",
    "\n",
    "    for i, row in enumerate( result['chunks'] ):\n",
    "        # print( row['text'] )\n",
    "\n",
    "        data.append( row[\"text\"] )\n",
    "\n",
    "# data"
   ]
  },
  {
   "cell_type": "code",
   "execution_count": 27,
   "metadata": {},
   "outputs": [
    {
     "data": {
      "text/html": [
       "<div>\n",
       "<style scoped>\n",
       "    .dataframe tbody tr th:only-of-type {\n",
       "        vertical-align: middle;\n",
       "    }\n",
       "\n",
       "    .dataframe tbody tr th {\n",
       "        vertical-align: top;\n",
       "    }\n",
       "\n",
       "    .dataframe thead th {\n",
       "        text-align: right;\n",
       "    }\n",
       "</style>\n",
       "<table border=\"1\" class=\"dataframe\">\n",
       "  <thead>\n",
       "    <tr style=\"text-align: right;\">\n",
       "      <th></th>\n",
       "      <th>Unnamed: 0</th>\n",
       "      <th>Filename</th>\n",
       "      <th>Sentences</th>\n",
       "    </tr>\n",
       "  </thead>\n",
       "  <tbody>\n",
       "    <tr>\n",
       "      <th>0</th>\n",
       "      <td>0</td>\n",
       "      <td>Wizard-Lesson 1-01.wma</td>\n",
       "      <td>Music  Wizard Book 3 Conversation Lesson 1  D...</td>\n",
       "    </tr>\n",
       "  </tbody>\n",
       "</table>\n",
       "</div>"
      ],
      "text/plain": [
       "   Unnamed: 0                Filename  \\\n",
       "0           0  Wizard-Lesson 1-01.wma   \n",
       "\n",
       "                                           Sentences  \n",
       "0   Music  Wizard Book 3 Conversation Lesson 1  D...  "
      ]
     },
     "execution_count": 27,
     "metadata": {},
     "output_type": "execute_result"
    }
   ],
   "source": [
    "df = pd.read_csv(\"transcript.csv\")\n",
    "df"
   ]
  },
  {
   "cell_type": "code",
   "execution_count": 28,
   "metadata": {},
   "outputs": [
    {
     "data": {
      "text/plain": [
       "[' Conversation, Lesson 10, is he younger or older than her?',\n",
       " ' He is younger than her.',\n",
       " ' I thought he was older than her.',\n",
       " ' How old do you think she is?',\n",
       " \" I think she's 40.\",\n",
       " \" I don't think she's older than 35.\",\n",
       " \" What were they doing there? I don't know what they were doing there.\",\n",
       " ' I think they were checking their emails. Who is the youngest in your class?',\n",
       " ' I think Karen is the youngest.',\n",
       " \" Isn't James younger than she is?\",\n",
       " ' Who is the oldest student in your class?',\n",
       " ' I think Mark is the oldest.',\n",
       " \" Isn't Jim older than Mark?\",\n",
       " ' What is the most difficult class in school?',\n",
       " \" I think it's math.\",\n",
       " \" Isn't it biology?\",\n",
       " ' What is the easiest class in school?',\n",
       " \" I think it's English.\",\n",
       " \" Isn't it Portuguese?\",\n",
       " ' When is the best time for us to go there?',\n",
       " \" What about 10 o'clock?\",\n",
       " \" Isn't it 11 o'clock better?\",\n",
       " ' What is the fastest car that you know?',\n",
       " ' What about a Porsche?',\n",
       " \" Isn't a Ferrari faster?\",\n",
       " ' What is the largest state in the US?',\n",
       " ' What about California?',\n",
       " \" Isn't Texas larger\"]"
      ]
     },
     "execution_count": 28,
     "metadata": {},
     "output_type": "execute_result"
    }
   ],
   "source": [
    "data"
   ]
  },
  {
   "cell_type": "code",
   "execution_count": 31,
   "metadata": {},
   "outputs": [
    {
     "data": {
      "text/html": [
       "<div>\n",
       "<style scoped>\n",
       "    .dataframe tbody tr th:only-of-type {\n",
       "        vertical-align: middle;\n",
       "    }\n",
       "\n",
       "    .dataframe tbody tr th {\n",
       "        vertical-align: top;\n",
       "    }\n",
       "\n",
       "    .dataframe thead th {\n",
       "        text-align: right;\n",
       "    }\n",
       "</style>\n",
       "<table border=\"1\" class=\"dataframe\">\n",
       "  <thead>\n",
       "    <tr style=\"text-align: right;\">\n",
       "      <th></th>\n",
       "      <th>Unnamed: 0</th>\n",
       "      <th>Filename</th>\n",
       "      <th>Sentences</th>\n",
       "    </tr>\n",
       "  </thead>\n",
       "  <tbody>\n",
       "    <tr>\n",
       "      <th>0</th>\n",
       "      <td>0.0</td>\n",
       "      <td>Wizard-Lesson 1-01.wma</td>\n",
       "      <td>Music  Wizard Book 3 Conversation Lesson 1  D...</td>\n",
       "    </tr>\n",
       "    <tr>\n",
       "      <th>1</th>\n",
       "      <td>NaN</td>\n",
       "      <td>Wizard-Lesson 10-10.wma</td>\n",
       "      <td>Conversation, Lesson 10, is he younger or old...</td>\n",
       "    </tr>\n",
       "  </tbody>\n",
       "</table>\n",
       "</div>"
      ],
      "text/plain": [
       "   Unnamed: 0                 Filename  \\\n",
       "0         0.0   Wizard-Lesson 1-01.wma   \n",
       "1         NaN  Wizard-Lesson 10-10.wma   \n",
       "\n",
       "                                           Sentences  \n",
       "0   Music  Wizard Book 3 Conversation Lesson 1  D...  \n",
       "1   Conversation, Lesson 10, is he younger or old...  "
      ]
     },
     "execution_count": 31,
     "metadata": {},
     "output_type": "execute_result"
    }
   ],
   "source": [
    "glued = \" \".join(data)\n",
    "row = { \n",
    "    \"Filename\": filename,\n",
    "    \"Sentences\": glued\n",
    "    }\n",
    "\n",
    "df = pd.concat( [df, pd.DataFrame([row])], ignore_index=True )\n",
    "df"
   ]
  },
  {
   "cell_type": "code",
   "execution_count": 35,
   "metadata": {},
   "outputs": [],
   "source": [
    "df = df.drop( columns=['Unnamed: 0'] )"
   ]
  },
  {
   "cell_type": "code",
   "execution_count": 36,
   "metadata": {},
   "outputs": [],
   "source": [
    "df.to_csv( \"transcript.csv\" )"
   ]
  },
  {
   "cell_type": "code",
   "execution_count": null,
   "metadata": {},
   "outputs": [],
   "source": []
  },
  {
   "cell_type": "code",
   "execution_count": null,
   "metadata": {},
   "outputs": [],
   "source": []
  },
  {
   "cell_type": "code",
   "execution_count": null,
   "metadata": {},
   "outputs": [],
   "source": []
  },
  {
   "cell_type": "code",
   "execution_count": null,
   "metadata": {},
   "outputs": [],
   "source": []
  },
  {
   "cell_type": "code",
   "execution_count": null,
   "metadata": {},
   "outputs": [],
   "source": []
  }
 ],
 "metadata": {
  "kernelspec": {
   "display_name": "Python 3",
   "language": "python",
   "name": "python3"
  },
  "language_info": {
   "codemirror_mode": {
    "name": "ipython",
    "version": 3
   },
   "file_extension": ".py",
   "mimetype": "text/x-python",
   "name": "python",
   "nbconvert_exporter": "python",
   "pygments_lexer": "ipython3",
   "version": "3.11.8"
  }
 },
 "nbformat": 4,
 "nbformat_minor": 2
}
