{
 "cells": [
  {
   "cell_type": "code",
   "execution_count": 2,
   "metadata": {},
   "outputs": [],
   "source": [
    "import soundfile as sf\n",
    "import numpy as np\n",
    "import os"
   ]
  },
  {
   "cell_type": "code",
   "execution_count": 3,
   "metadata": {},
   "outputs": [],
   "source": [
    "def generate_silence(duration, samplerate):\n",
    "    num_samples = int(duration * samplerate)\n",
    "    return np.zeros((num_samples,))"
   ]
  },
  {
   "cell_type": "code",
   "execution_count": 24,
   "metadata": {},
   "outputs": [
    {
     "name": "stdout",
     "output_type": "stream",
     "text": [
      "0 Wizard-Lesson 2-02 ['0.wav', '1.wav', '10.wav', '11.wav', '12.wav', '13.wav', '14.wav', '15.wav', '16.wav', '17.wav', '18.wav', '19.wav', '2.wav', '20.wav', '21.wav', '22.wav', '23.wav', '24.wav', '25.wav', '26.wav', '27.wav', '28.wav', '29.wav', '3.wav', '30.wav', '31.wav', '32.wav', '33.wav', '34.wav', '35.wav', '36.wav', '37.wav', '38.wav', '39.wav', '4.wav', '40.wav', '5.wav', '6.wav', '7.wav', '8.wav', '9.wav']\n"
     ]
    }
   ],
   "source": [
    "for i, (root, dir, files) in enumerate( list( os.walk(\"new_audio\") )[1:] ):\n",
    "    filename = root.split(\"/\")[1]\n",
    "    files = sorted( files )\n",
    "    \n",
    "    print( i, filename , files )\n",
    "\n",
    "    # Initialize an empty list to store concatenated audio data\n",
    "    concatenated_data = []\n",
    "\n",
    "    # Loop through each audio file\n",
    "    for i, file_path in enumerate(files):\n",
    "        # Load audio data from the current file\n",
    "        data, samplerate = sf.read(f\"{root}/{file_path}\")\n",
    "        \n",
    "        # Append the audio data to the concatenated_data list\n",
    "        concatenated_data.append(data)\n",
    "        \n",
    "        # add silence of the same durantion of the last audio\n",
    "        silence_duration = len(data) / samplerate\n",
    "        silence_data = generate_silence(silence_duration, samplerate)\n",
    "        concatenated_data.append(silence_data)\n",
    "\n",
    "    # Concatenate all audio data into a single array\n",
    "    final_data = np.concatenate(concatenated_data)\n",
    "\n",
    "    # Specify the output file path where you want to save the concatenated audio\n",
    "    output_file = f'new_audio_joined/{filename}.wav'\n",
    "\n",
    "    # Write the concatenated audio data to the specified output file\n",
    "    sf.write(output_file, final_data, samplerate)\n",
    "\n",
    "    if i >= 0:\n",
    "        break\n",
    "\n",
    "    \n",
    "    "
   ]
  },
  {
   "cell_type": "code",
   "execution_count": null,
   "metadata": {},
   "outputs": [],
   "source": []
  },
  {
   "cell_type": "code",
   "execution_count": null,
   "metadata": {},
   "outputs": [],
   "source": []
  },
  {
   "cell_type": "code",
   "execution_count": null,
   "metadata": {},
   "outputs": [],
   "source": [
    "\n"
   ]
  }
 ],
 "metadata": {
  "kernelspec": {
   "display_name": ".venv",
   "language": "python",
   "name": "python3"
  },
  "language_info": {
   "codemirror_mode": {
    "name": "ipython",
    "version": 3
   },
   "file_extension": ".py",
   "mimetype": "text/x-python",
   "name": "python",
   "nbconvert_exporter": "python",
   "pygments_lexer": "ipython3",
   "version": "3.10.14"
  }
 },
 "nbformat": 4,
 "nbformat_minor": 2
}
