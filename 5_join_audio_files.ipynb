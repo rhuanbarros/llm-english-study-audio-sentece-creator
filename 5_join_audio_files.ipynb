{
 "cells": [
  {
   "cell_type": "code",
   "execution_count": 2,
   "metadata": {},
   "outputs": [],
   "source": [
    "import soundfile as sf\n",
    "import numpy as np\n",
    "import os"
   ]
  },
  {
   "cell_type": "code",
   "execution_count": 3,
   "metadata": {},
   "outputs": [],
   "source": [
    "def generate_silence(duration, samplerate):\n",
    "    num_samples = int(duration * samplerate)\n",
    "    return np.zeros((num_samples,))"
   ]
  },
  {
   "cell_type": "code",
   "execution_count": 26,
   "metadata": {},
   "outputs": [
    {
     "name": "stdout",
     "output_type": "stream",
     "text": [
      "0 Wizard-Lesson 2-02 ['000.wav', '001.wav', '002.wav', '003.wav', '004.wav', '005.wav', '006.wav', '007.wav', '008.wav', '009.wav', '010.wav', '011.wav', '012.wav', '013.wav', '014.wav', '015.wav', '016.wav', '017.wav', '018.wav', '019.wav', '020.wav', '021.wav', '022.wav', '023.wav', '024.wav', '025.wav', '026.wav', '027.wav', '028.wav', '029.wav', '030.wav', '031.wav', '032.wav', '033.wav', '034.wav', '035.wav', '036.wav', '037.wav', '038.wav', '039.wav', '040.wav']\n",
      "1 Wizard-Lesson 6-06 ['001.wav', '002.wav', '004.wav', '005.wav', '007.wav', '008.wav', '010.wav', '011.wav', '013.wav', '014.wav', '016.wav', '017.wav', '019.wav', '020.wav', '022.wav', '023.wav', '025.wav', '026.wav', '028.wav', '029.wav']\n",
      "2 Wizard-Lesson 27-27 ['001.wav', '002.wav', '004.wav', '005.wav', '007.wav', '008.wav', '010.wav', '011.wav', '013.wav', '014.wav', '016.wav', '017.wav', '019.wav', '020.wav', '022.wav', '023.wav', '025.wav', '026.wav', '028.wav', '029.wav']\n",
      "3 Wizard-Lesson 22-22 ['001.wav', '002.wav', '003.wav', '005.wav', '006.wav', '007.wav', '009.wav', '010.wav', '011.wav', '013.wav', '014.wav', '015.wav', '017.wav', '018.wav', '019.wav', '021.wav', '022.wav', '023.wav', '025.wav', '026.wav', '027.wav', '028.wav', '029.wav', '030.wav', '032.wav', '033.wav', '034.wav', '035.wav', '036.wav', '037.wav']\n",
      "4 Wizard-Lesson 3-03 ['000.wav', '001.wav', '002.wav', '003.wav', '004.wav', '005.wav', '006.wav', '007.wav', '008.wav', '009.wav', '010.wav', '011.wav', '012.wav', '013.wav', '014.wav', '015.wav', '016.wav', '017.wav', '018.wav', '019.wav', '020.wav', '021.wav', '022.wav', '023.wav', '024.wav', '025.wav', '026.wav', '027.wav', '028.wav', '029.wav', '030.wav', '031.wav', '032.wav', '033.wav', '034.wav', '035.wav', '036.wav', '037.wav', '038.wav', '039.wav', '040.wav', '041.wav', '042.wav', '043.wav', '044.wav', '045.wav', '046.wav', '047.wav', '048.wav', '049.wav', '050.wav', '051.wav', '052.wav', '053.wav', '054.wav', '055.wav', '056.wav', '057.wav', '058.wav', '059.wav', '060.wav', '061.wav', '062.wav', '063.wav', '064.wav']\n",
      "5 Wizard-Lesson 23-23 ['001.wav', '002.wav', '003.wav', '005.wav', '006.wav', '007.wav', '009.wav', '011.wav', '012.wav', '013.wav', '015.wav', '016.wav', '017.wav', '018.wav', '019.wav', '020.wav', '021.wav', '023.wav', '024.wav', '025.wav', '027.wav', '028.wav', '029.wav', '031.wav', '032.wav', '033.wav', '035.wav', '036.wav', '037.wav', '038.wav', '039.wav', '040.wav', '042.wav', '043.wav', '044.wav']\n",
      "6 Wizard-Lesson 19-19 ['001.wav', '002.wav', '003.wav', '004.wav', '006.wav', '007.wav', '008.wav', '009.wav', '011.wav', '012.wav', '013.wav', '014.wav', '016.wav', '017.wav', '018.wav', '019.wav', '021.wav', '022.wav', '023.wav', '024.wav', '026.wav', '027.wav', '028.wav', '029.wav', '030.wav', '031.wav', '033.wav', '034.wav', '035.wav', '037.wav', '038.wav', '039.wav', '041.wav', '042.wav', '043.wav', '045.wav', '046.wav', '047.wav']\n",
      "7 Wizard-Lesson 25-25 ['001.wav', '002.wav', '004.wav', '005.wav', '007.wav', '008.wav', '010.wav', '011.wav', '013.wav', '014.wav', '016.wav', '018.wav', '020.wav', '022.wav']\n",
      "8 Wizard-Lesson 15-15 ['000.wav', '001.wav', '002.wav', '004.wav', '005.wav', '006.wav', '008.wav', '009.wav', '010.wav', '012.wav', '013.wav', '014.wav', '016.wav', '017.wav', '018.wav', '020.wav', '021.wav', '022.wav', '024.wav', '025.wav', '026.wav', '028.wav', '029.wav', '030.wav', '032.wav', '033.wav', '034.wav', '036.wav', '037.wav', '038.wav']\n",
      "9 Wizard-Lesson 14-14 ['001.wav', '002.wav', '003.wav', '005.wav', '006.wav', '007.wav', '008.wav', '009.wav', '010.wav', '011.wav', '012.wav', '013.wav', '014.wav', '015.wav', '016.wav', '018.wav', '019.wav', '020.wav', '022.wav', '023.wav', '024.wav', '026.wav', '027.wav', '028.wav', '030.wav', '031.wav', '032.wav', '034.wav', '035.wav', '036.wav', '038.wav', '039.wav', '040.wav']\n",
      "10 Wizard-Lesson 8-08 ['001.wav', '002.wav', '004.wav', '005.wav', '007.wav', '008.wav', '009.wav', '011.wav', '012.wav', '014.wav', '015.wav', '017.wav', '018.wav', '020.wav', '021.wav', '023.wav', '024.wav', '026.wav', '027.wav', '029.wav', '030.wav']\n",
      "11 Wizard-Lesson 24-24 ['001.wav', '002.wav', '003.wav', '005.wav', '006.wav', '007.wav', '008.wav', '009.wav', '010.wav', '011.wav', '012.wav', '013.wav', '014.wav', '016.wav', '017.wav', '019.wav', '020.wav', '021.wav', '023.wav', '024.wav', '025.wav', '026.wav', '027.wav', '028.wav', '029.wav', '031.wav', '032.wav', '033.wav', '035.wav', '036.wav', '037.wav', '039.wav', '040.wav']\n",
      "12 Wizard-Lesson 12-12 ['000.wav', '001.wav', '002.wav', '003.wav', '005.wav', '006.wav', '007.wav', '008.wav', '010.wav', '011.wav', '012.wav', '013.wav', '015.wav', '016.wav', '017.wav', '018.wav', '020.wav', '021.wav', '023.wav', '024.wav', '025.wav', '026.wav', '028.wav', '029.wav', '030.wav', '031.wav', '033.wav', '034.wav', '035.wav', '036.wav', '038.wav', '039.wav', '040.wav', '041.wav', '043.wav', '044.wav', '045.wav', '046.wav']\n",
      "13 Wizard-Lesson 18-18 ['001.wav', '002.wav', '004.wav', '005.wav', '006.wav', '007.wav', '008.wav', '009.wav', '010.wav', '012.wav', '013.wav', '015.wav', '016.wav', '018.wav', '019.wav', '021.wav', '022.wav', '024.wav', '025.wav', '027.wav', '028.wav', '030.wav', '031.wav', '033.wav', '034.wav', '035.wav', '036.wav', '037.wav']\n",
      "14 Wizard-Lesson 11-11 ['001.wav', '002.wav', '003.wav', '005.wav', '006.wav', '007.wav', '009.wav', '010.wav', '012.wav', '013.wav', '015.wav', '016.wav', '018.wav', '019.wav', '021.wav', '022.wav', '023.wav', '025.wav', '026.wav', '028.wav', '029.wav', '030.wav', '032.wav', '033.wav', '034.wav']\n",
      "15 Wizard-Lesson 30-30 ['001.wav', '002.wav', '003.wav', '005.wav', '006.wav', '007.wav', '009.wav', '010.wav', '011.wav', '013.wav', '014.wav', '015.wav', '017.wav', '018.wav', '019.wav', '021.wav', '022.wav', '023.wav', '025.wav', '026.wav', '027.wav', '029.wav', '030.wav', '031.wav', '033.wav', '034.wav', '035.wav', '037.wav', '038.wav', '039.wav']\n",
      "16 Wizard-Lesson 7-07 ['000.wav', '001.wav', '002.wav', '003.wav', '004.wav', '005.wav', '006.wav', '007.wav', '008.wav', '009.wav', '010.wav', '011.wav', '012.wav', '013.wav', '014.wav', '015.wav', '016.wav', '017.wav', '018.wav', '019.wav', '020.wav', '021.wav', '022.wav', '023.wav', '024.wav', '025.wav', '026.wav', '027.wav', '028.wav', '029.wav', '030.wav', '031.wav', '032.wav', '033.wav', '034.wav', '035.wav', '036.wav', '037.wav', '038.wav', '039.wav']\n",
      "17 Wizard-Lesson 20-20 ['001.wav', '002.wav', '003.wav', '005.wav', '006.wav', '007.wav', '009.wav', '010.wav', '011.wav', '012.wav', '013.wav', '014.wav', '016.wav', '017.wav', '018.wav', '020.wav', '021.wav', '023.wav', '024.wav', '026.wav', '027.wav', '029.wav', '030.wav', '032.wav', '033.wav']\n",
      "18 Wizard-Lesson 5-05 ['001.wav', '002.wav', '003.wav', '005.wav', '006.wav', '007.wav', '009.wav', '010.wav', '011.wav', '013.wav', '014.wav', '015.wav', '017.wav', '018.wav', '019.wav', '021.wav', '022.wav', '023.wav', '025.wav', '026.wav', '027.wav', '029.wav', '030.wav', '031.wav', '033.wav', '034.wav', '035.wav', '037.wav', '038.wav', '039.wav']\n",
      "19 Wizard-Lesson 16-16 ['001.wav', '002.wav', '003.wav', '005.wav', '006.wav', '007.wav', '008.wav', '010.wav', '011.wav', '012.wav', '014.wav', '015.wav', '016.wav', '018.wav', '019.wav', '020.wav', '021.wav', '023.wav', '024.wav', '025.wav', '027.wav', '028.wav', '029.wav', '031.wav', '032.wav', '033.wav', '035.wav', '036.wav', '037.wav', '039.wav', '040.wav', '041.wav', '042.wav']\n",
      "20 Wizard-Lesson 21-21 ['000.wav', '001.wav', '002.wav', '003.wav', '005.wav', '006.wav', '007.wav', '008.wav', '010.wav', '011.wav', '012.wav', '013.wav', '015.wav', '016.wav', '017.wav', '018.wav', '020.wav', '021.wav', '022.wav', '023.wav', '025.wav', '026.wav', '027.wav', '028.wav', '030.wav', '031.wav', '032.wav', '033.wav', '035.wav', '036.wav', '037.wav', '038.wav', '040.wav', '041.wav', '042.wav', '043.wav']\n",
      "21 Wizard-Lesson 10-10 ['001.wav', '002.wav', '004.wav', '005.wav', '007.wav', '008.wav', '010.wav', '011.wav', '013.wav', '014.wav', '016.wav', '017.wav', '019.wav', '020.wav', '022.wav', '023.wav', '025.wav', '026.wav', '028.wav', '029.wav']\n",
      "22 Wizard-Lesson 17-17 ['001.wav', '002.wav', '003.wav', '005.wav', '006.wav', '008.wav', '009.wav', '011.wav', '012.wav', '014.wav', '015.wav', '017.wav', '018.wav', '020.wav', '021.wav', '023.wav', '024.wav', '026.wav', '027.wav', '029.wav', '030.wav']\n",
      "23 Wizard-Lesson 9-09 ['001.wav', '002.wav', '003.wav', '005.wav', '006.wav', '008.wav', '009.wav', '011.wav', '012.wav', '014.wav', '015.wav', '017.wav', '018.wav', '019.wav', '021.wav', '022.wav', '023.wav', '025.wav', '026.wav', '027.wav', '029.wav', '030.wav', '031.wav', '033.wav', '034.wav', '035.wav']\n",
      "24 Wizard-Lesson 28-28 ['001.wav', '002.wav', '003.wav', '005.wav', '006.wav', '007.wav', '008.wav', '009.wav', '010.wav', '012.wav', '013.wav', '014.wav', '016.wav', '017.wav', '018.wav', '020.wav', '021.wav', '022.wav', '024.wav', '025.wav', '026.wav', '027.wav', '028.wav', '030.wav', '031.wav', '032.wav', '034.wav', '035.wav', '036.wav', '038.wav', '039.wav', '040.wav', '042.wav', '043.wav', '044.wav']\n",
      "25 Wizard-Lesson 4-04 ['001.wav', '002.wav', '003.wav', '004.wav', '006.wav', '007.wav', '008.wav', '009.wav', '011.wav', '012.wav', '013.wav', '015.wav', '016.wav', '017.wav', '018.wav', '019.wav', '021.wav', '022.wav', '023.wav', '024.wav', '025.wav', '026.wav', '028.wav', '029.wav', '030.wav', '031.wav', '033.wav', '034.wav', '035.wav', '036.wav', '038.wav', '039.wav', '040.wav', '041.wav', '043.wav', '044.wav', '045.wav', '046.wav', '048.wav', '049.wav', '050.wav', '051.wav']\n",
      "26 Wizard-Lesson 29-29 ['001.wav', '002.wav', '003.wav', '004.wav', '005.wav', '006.wav', '007.wav', '008.wav', '009.wav', '010.wav', '011.wav', '012.wav', '013.wav', '014.wav', '015.wav', '016.wav', '017.wav', '018.wav', '019.wav', '020.wav', '021.wav', '022.wav', '023.wav', '024.wav', '025.wav', '026.wav', '027.wav', '028.wav', '029.wav', '030.wav', '031.wav', '032.wav', '033.wav']\n",
      "27 Wizard-Lesson 13-13 ['001.wav', '002.wav', '004.wav', '005.wav', '006.wav', '008.wav', '009.wav', '011.wav', '012.wav', '014.wav', '016.wav', '018.wav', '019.wav', '021.wav', '022.wav', '024.wav', '025.wav', '027.wav']\n",
      "28 Wizard-Lesson 1-01 ['001.wav', '002.wav', '003.wav', '005.wav', '006.wav', '008.wav', '009.wav', '011.wav', '012.wav', '013.wav', '015.wav', '016.wav', '018.wav', '019.wav', '020.wav', '022.wav', '023.wav', '024.wav', '026.wav', '027.wav', '028.wav', '030.wav', '031.wav', '032.wav', '034.wav', '035.wav', '036.wav']\n",
      "29 Wizard-Lesson 26-26 ['001.wav', '002.wav', '003.wav', '005.wav', '006.wav', '007.wav', '009.wav', '010.wav', '011.wav', '013.wav', '014.wav', '015.wav', '017.wav', '018.wav', '019.wav', '021.wav', '022.wav', '023.wav', '025.wav', '026.wav', '027.wav', '029.wav', '030.wav', '031.wav', '033.wav', '034.wav', '035.wav', '037.wav', '038.wav', '039.wav']\n"
     ]
    }
   ],
   "source": [
    "for i, (root, dir, files) in enumerate( list( os.walk(\"new_audio\") )[1:] ):\n",
    "    filename = root.split(\"/\")[1]\n",
    "    files = sorted( files )\n",
    "    \n",
    "    print( i, filename , files )\n",
    "\n",
    "    # Initialize an empty list to store concatenated audio data\n",
    "    concatenated_data = []\n",
    "\n",
    "    # Loop through each audio file\n",
    "    for i, file_path in enumerate(files):\n",
    "        # Load audio data from the current file\n",
    "        data, samplerate = sf.read(f\"{root}/{file_path}\")\n",
    "        \n",
    "        # Append the audio data to the concatenated_data list\n",
    "        concatenated_data.append(data)\n",
    "        \n",
    "        # add silence of the same durantion of the last audio\n",
    "        silence_duration = len(data) / samplerate\n",
    "        silence_data = generate_silence(silence_duration, samplerate)\n",
    "        concatenated_data.append(silence_data)\n",
    "\n",
    "    # Concatenate all audio data into a single array\n",
    "    final_data = np.concatenate(concatenated_data)\n",
    "\n",
    "    # Specify the output file path where you want to save the concatenated audio\n",
    "    output_file = f'new_audio_joined/{filename}.wav'\n",
    "\n",
    "    # Write the concatenated audio data to the specified output file\n",
    "    sf.write(output_file, final_data, samplerate)\n",
    "\n",
    "    # if i >= 0:\n",
    "    #     break\n",
    "\n",
    "    \n",
    "    "
   ]
  },
  {
   "cell_type": "code",
   "execution_count": null,
   "metadata": {},
   "outputs": [],
   "source": []
  },
  {
   "cell_type": "code",
   "execution_count": null,
   "metadata": {},
   "outputs": [],
   "source": []
  },
  {
   "cell_type": "code",
   "execution_count": null,
   "metadata": {},
   "outputs": [],
   "source": [
    "\n"
   ]
  }
 ],
 "metadata": {
  "kernelspec": {
   "display_name": ".venv",
   "language": "python",
   "name": "python3"
  },
  "language_info": {
   "codemirror_mode": {
    "name": "ipython",
    "version": 3
   },
   "file_extension": ".py",
   "mimetype": "text/x-python",
   "name": "python",
   "nbconvert_exporter": "python",
   "pygments_lexer": "ipython3",
   "version": "3.10.14"
  }
 },
 "nbformat": 4,
 "nbformat_minor": 2
}
