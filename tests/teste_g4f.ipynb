{
 "cells": [
  {
   "cell_type": "code",
   "execution_count": 2,
   "metadata": {},
   "outputs": [],
   "source": [
    "from g4f.client import Client\n",
    "\n",
    "client = Client()"
   ]
  },
  {
   "cell_type": "code",
   "execution_count": 4,
   "metadata": {},
   "outputs": [
    {
     "name": "stdout",
     "output_type": "stream",
     "text": [
      "Eu sou uma versão do GPT-3.5, criado pela OpenAI. Minha especialidade é ajudar com uma variedade de tarefas e responder a perguntas sobre uma ampla gama de tópicos. Posso ajudar com informações, fornecer sugestões e até mesmo participar de conversas sobre diversos assuntos.\n"
     ]
    }
   ],
   "source": [
    "response = client.chat.completions.create(\n",
    "    model=\"gpt-3.5-turbo\",\n",
    "    messages=[{\"role\": \"user\", \"content\": \"qual LLM é vc?\"}],\n",
    "    # ...\n",
    ")\n",
    "print(response.choices[0].message.content)"
   ]
  },
  {
   "cell_type": "code",
   "execution_count": null,
   "metadata": {},
   "outputs": [],
   "source": []
  },
  {
   "cell_type": "code",
   "execution_count": 5,
   "metadata": {},
   "outputs": [],
   "source": [
    "from g4f import Provider, models\n",
    "from langchain.llms.base import LLM\n",
    "\n",
    "from langchain_g4f import G4FLLM"
   ]
  },
  {
   "cell_type": "code",
   "execution_count": 8,
   "metadata": {},
   "outputs": [
    {
     "name": "stdout",
     "output_type": "stream",
     "text": [
      "Olá! Em que posso ajudar você?\n"
     ]
    }
   ],
   "source": [
    "llm: LLM = G4FLLM(\n",
    "    model=models.gpt_35_turbo,\n",
    "    # provider=Provider.Aichat,\n",
    ")\n",
    "\n",
    "res = llm(\"traduza para portugues:  你好！有什么可以帮到您的吗？\")\n",
    "print(res)"
   ]
  },
  {
   "cell_type": "code",
   "execution_count": null,
   "metadata": {},
   "outputs": [],
   "source": []
  }
 ],
 "metadata": {
  "kernelspec": {
   "display_name": ".venv",
   "language": "python",
   "name": "python3"
  },
  "language_info": {
   "codemirror_mode": {
    "name": "ipython",
    "version": 3
   },
   "file_extension": ".py",
   "mimetype": "text/x-python",
   "name": "python",
   "nbconvert_exporter": "python",
   "pygments_lexer": "ipython3",
   "version": "3.10.14"
  }
 },
 "nbformat": 4,
 "nbformat_minor": 2
}
