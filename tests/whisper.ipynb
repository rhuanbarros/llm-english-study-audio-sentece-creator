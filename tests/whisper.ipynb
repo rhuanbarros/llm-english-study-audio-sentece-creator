{
 "cells": [
  {
   "cell_type": "code",
   "execution_count": 7,
   "metadata": {},
   "outputs": [
    {
     "name": "stderr",
     "output_type": "stream",
     "text": [
      "Special tokens have been added in the vocabulary, make sure the associated word embeddings are fine-tuned or trained.\n"
     ]
    }
   ],
   "source": [
    "import torch\n",
    "from transformers import AutoModelForSpeechSeq2Seq, AutoProcessor, pipeline\n",
    "from datasets import load_dataset\n",
    "\n",
    "\n",
    "device = \"cuda:0\" if torch.cuda.is_available() else \"cpu\"\n",
    "torch_dtype = torch.float16 if torch.cuda.is_available() else torch.float32\n",
    "\n",
    "# model_id = \"openai/whisper-large-v3\"\n",
    "# model_id = \"openai/whisper-small\"\n",
    "model_id = \"openai/whisper-medium\"\n",
    "\n",
    "model = AutoModelForSpeechSeq2Seq.from_pretrained(\n",
    "    model_id, torch_dtype=torch_dtype, low_cpu_mem_usage=True, use_safetensors=True\n",
    ")\n",
    "model.to(device)\n",
    "\n",
    "processor = AutoProcessor.from_pretrained(model_id)\n",
    "\n",
    "pipe = pipeline(\n",
    "    \"automatic-speech-recognition\",\n",
    "    model=model,\n",
    "    tokenizer=processor.tokenizer,\n",
    "    feature_extractor=processor.feature_extractor,\n",
    "    max_new_tokens=128,\n",
    "    chunk_length_s=30,\n",
    "    batch_size=16,\n",
    "    return_timestamps=True,\n",
    "    torch_dtype=torch_dtype,\n",
    "    device=device,\n",
    ")\n"
   ]
  },
  {
   "cell_type": "code",
   "execution_count": 3,
   "metadata": {},
   "outputs": [
    {
     "name": "stderr",
     "output_type": "stream",
     "text": [
      "Downloading readme: 100%|██████████| 480/480 [00:00<00:00, 2.47MB/s]\n",
      "Downloading data: 100%|██████████| 1.98M/1.98M [00:00<00:00, 3.03MB/s]\n",
      "Generating validation split: 100%|██████████| 1/1 [00:00<00:00, 140.04 examples/s]\n",
      "Due to a bug fix in https://github.com/huggingface/transformers/pull/28687 transcription using a multilingual Whisper will default to language detection followed by transcription instead of translation to English.This might be a breaking change for your use case. If you want to instead always translate your audio to English, make sure to pass `language='en'`.\n"
     ]
    },
    {
     "name": "stdout",
     "output_type": "stream",
     "text": [
      " Mr. Quilter is the apostle of the middle classes, and we are glad to welcome his gospel. Nor is Mr. Quilter's manner less interesting than his matter. He tells us that at this festive season of the year, with Christmas and roast beef looming before us, simile is drawn from eating and its results occur most readily to the mind. He has grave doubts whether Sir Frederick Layton's work is really Greek after all, and can discover in it but little of rocky Ithaca. Linnell's pictures are a sort of Up Guards and Atom paintings, and Mason's exquisite idles are as national as a Jingo poem. Mr. Birkut Foster's landscapes smile at one much in the same way that Mr. Karker used to flash his teeth. And Mr. John Collier gives his sitter a cheerful slap on the back before he says, like a shampoo or a Turkish bath, next man,\n"
     ]
    }
   ],
   "source": [
    "\n",
    "# dataset = load_dataset(\"distil-whisper/librispeech_long\", \"clean\", split=\"validation\")\n",
    "# sample = dataset[0][\"audio\"]\n",
    "\n",
    "# result = pipe(sample)\n",
    "# print(result[\"text\"])"
   ]
  },
  {
   "cell_type": "code",
   "execution_count": 9,
   "metadata": {},
   "outputs": [
    {
     "name": "stderr",
     "output_type": "stream",
     "text": [
      "Whisper did not predict an ending timestamp, which can happen if audio is cut off in the middle of a word. Also make sure WhisperTimeStampLogitsProcessor was used during generation.\n"
     ]
    },
    {
     "data": {
      "text/plain": [
       "\" WIZARD Book 3 Conversation Lesson 1 Did the boy pay one dollar for the paper at the newsstand? Yes, he did. He paid one dollar for the paper at the newsstand. No, he didn't. He didn't pay one dollar for the paper at the newsstand. Did the secretary put the document on the table. No, she didn't. She didn't put the document on the table. Did you access the information from the computer? Yes, I did. I access the information from the computer. Did your mom do her Christmas shopping early this year? Yes, she did. She did her Christmas shopping early this year. Christmas shopping early this year. No, she didn't. She didn't do her Christmas shopping early this year. Did they eat Brazilian food at the restaurant. No, they didn't. They didn't eat Brazilian food at the restaurant. Is your sister doing her homework in her bedroom? Yes, she is. She is doing her homework in her bedroom. No, she isn't. She isn't doing her homework in her bedroom. Are the children playing in the snow? Yes, they are. They are playing in the snow. No, they aren't. They aren't playing in the snow. Is your son putting the toys in the room? Yes, he is. He is putting the toys in the room. No, he isn't. He isn't putting the toys in the room. Is Jane accessing her email every day? Yes, she is. She is accessing her email every day. No, she isn't. She isn't accessing her email every day. Is the man paying for the groceries? Yes he is. He is paying for the groceries. No he isn't. He is not paying for the groceries.\""
      ]
     },
     "execution_count": 9,
     "metadata": {},
     "output_type": "execute_result"
    }
   ],
   "source": [
    "result = pipe(\"data/english_course_wma/Wizard Inglês Modulo 3 - Conversation/Wizard-Lesson 1-01.wma\")\n",
    "result[\"text\"]"
   ]
  },
  {
   "cell_type": "code",
   "execution_count": 10,
   "metadata": {},
   "outputs": [
    {
     "data": {
      "text/plain": [
       "{'text': \" WIZARD Book 3 Conversation Lesson 1 Did the boy pay one dollar for the paper at the newsstand? Yes, he did. He paid one dollar for the paper at the newsstand. No, he didn't. He didn't pay one dollar for the paper at the newsstand. Did the secretary put the document on the table. No, she didn't. She didn't put the document on the table. Did you access the information from the computer? Yes, I did. I access the information from the computer. Did your mom do her Christmas shopping early this year? Yes, she did. She did her Christmas shopping early this year. Christmas shopping early this year. No, she didn't. She didn't do her Christmas shopping early this year. Did they eat Brazilian food at the restaurant. No, they didn't. They didn't eat Brazilian food at the restaurant. Is your sister doing her homework in her bedroom? Yes, she is. She is doing her homework in her bedroom. No, she isn't. She isn't doing her homework in her bedroom. Are the children playing in the snow? Yes, they are. They are playing in the snow. No, they aren't. They aren't playing in the snow. Is your son putting the toys in the room? Yes, he is. He is putting the toys in the room. No, he isn't. He isn't putting the toys in the room. Is Jane accessing her email every day? Yes, she is. She is accessing her email every day. No, she isn't. She isn't accessing her email every day. Is the man paying for the groceries? Yes he is. He is paying for the groceries. No he isn't. He is not paying for the groceries.\",\n",
       " 'chunks': [{'timestamp': (0.0, 7.0), 'text': ' WIZARD Book 3 Conversation'},\n",
       "  {'timestamp': (7.0, 8.5), 'text': ' Lesson 1'},\n",
       "  {'timestamp': (8.5, 12.5),\n",
       "   'text': ' Did the boy pay one dollar for the paper at the newsstand?'},\n",
       "  {'timestamp': (15.5, 20.5),\n",
       "   'text': ' Yes, he did. He paid one dollar for the paper at the newsstand.'},\n",
       "  {'timestamp': (35.52, 48.0),\n",
       "   'text': \" No, he didn't. He didn't pay one dollar for the paper at the newsstand. Did the secretary put the document on the table.\"},\n",
       "  {'timestamp': (48.0, 58.0),\n",
       "   'text': \" No, she didn't. She didn't put the document on the table.\"},\n",
       "  {'timestamp': (58.0, 67.0),\n",
       "   'text': ' Did you access the information from the computer?'},\n",
       "  {'timestamp': (67.0, 85.0),\n",
       "   'text': ' Yes, I did. I access the information from the computer.'},\n",
       "  {'timestamp': (90.0, 94.0),\n",
       "   'text': ' Did your mom do her Christmas shopping early this year?'},\n",
       "  {'timestamp': (97.0, 102.0),\n",
       "   'text': ' Yes, she did. She did her Christmas shopping early this year.'},\n",
       "  {'timestamp': (107.0, 107.76),\n",
       "   'text': ' Christmas shopping early this year.'},\n",
       "  {'timestamp': (114.76, 117.64),\n",
       "   'text': \" No, she didn't. She didn't do her Christmas shopping early this year.\"},\n",
       "  {'timestamp': (124.64, 129.0),\n",
       "   'text': ' Did they eat Brazilian food at the restaurant.'},\n",
       "  {'timestamp': (129.0, 138.0),\n",
       "   'text': \" No, they didn't. They didn't eat Brazilian food at the restaurant.\"},\n",
       "  {'timestamp': (138.0, 148.0),\n",
       "   'text': ' Is your sister doing her homework in her bedroom?'},\n",
       "  {'timestamp': (148.0, 158.0),\n",
       "   'text': ' Yes, she is. She is doing her homework in her bedroom.'},\n",
       "  {'timestamp': (158.0, 166.0),\n",
       "   'text': \" No, she isn't. She isn't doing her homework in her bedroom.\"},\n",
       "  {'timestamp': (169.0, 174.0),\n",
       "   'text': ' Are the children playing in the snow?'},\n",
       "  {'timestamp': (176.0, 182.0),\n",
       "   'text': ' Yes, they are. They are playing in the snow.'},\n",
       "  {'timestamp': (184.0, 187.0),\n",
       "   'text': \" No, they aren't. They aren't playing in the snow.\"},\n",
       "  {'timestamp': (187.0, 194.0),\n",
       "   'text': ' Is your son putting the toys in the room?'},\n",
       "  {'timestamp': (194.0, 207.0),\n",
       "   'text': ' Yes, he is. He is putting the toys in the room.'},\n",
       "  {'timestamp': (208.8, 215.8),\n",
       "   'text': \" No, he isn't. He isn't putting the toys in the room.\"},\n",
       "  {'timestamp': (217.6, 224.6),\n",
       "   'text': ' Is Jane accessing her email every day?'},\n",
       "  {'timestamp': (228.0, 237.0),\n",
       "   'text': \" Yes, she is. She is accessing her email every day. No, she isn't. She isn't accessing her email every day.\"},\n",
       "  {'timestamp': (237.0, 247.0),\n",
       "   'text': ' Is the man paying for the groceries?'},\n",
       "  {'timestamp': (247.0, 255.0),\n",
       "   'text': ' Yes he is. He is paying for the groceries.'},\n",
       "  {'timestamp': (255.0, None),\n",
       "   'text': \" No he isn't. He is not paying for the groceries.\"}]}"
      ]
     },
     "execution_count": 10,
     "metadata": {},
     "output_type": "execute_result"
    }
   ],
   "source": [
    "result"
   ]
  },
  {
   "cell_type": "code",
   "execution_count": 14,
   "metadata": {},
   "outputs": [
    {
     "name": "stdout",
     "output_type": "stream",
     "text": [
      "0  WIZARD Book 3 Conversation\n",
      "1  Lesson 1\n",
      "2  Did the boy pay one dollar for the paper at the newsstand?\n",
      "3  Yes, he did. He paid one dollar for the paper at the newsstand.\n",
      "4  No, he didn't. He didn't pay one dollar for the paper at the newsstand. Did the secretary put the document on the table.\n",
      "5  No, she didn't. She didn't put the document on the table.\n",
      "6  Did you access the information from the computer?\n",
      "7  Yes, I did. I access the information from the computer.\n",
      "8  Did your mom do her Christmas shopping early this year?\n",
      "9  Yes, she did. She did her Christmas shopping early this year.\n",
      "10  Christmas shopping early this year.\n",
      "11  No, she didn't. She didn't do her Christmas shopping early this year.\n",
      "12  Did they eat Brazilian food at the restaurant.\n",
      "13  No, they didn't. They didn't eat Brazilian food at the restaurant.\n",
      "14  Is your sister doing her homework in her bedroom?\n",
      "15  Yes, she is. She is doing her homework in her bedroom.\n",
      "16  No, she isn't. She isn't doing her homework in her bedroom.\n",
      "17  Are the children playing in the snow?\n",
      "18  Yes, they are. They are playing in the snow.\n",
      "19  No, they aren't. They aren't playing in the snow.\n",
      "20  Is your son putting the toys in the room?\n",
      "21  Yes, he is. He is putting the toys in the room.\n",
      "22  No, he isn't. He isn't putting the toys in the room.\n",
      "23  Is Jane accessing her email every day?\n",
      "24  Yes, she is. She is accessing her email every day. No, she isn't. She isn't accessing her email every day.\n",
      "25  Is the man paying for the groceries?\n",
      "26  Yes he is. He is paying for the groceries.\n",
      "27  No he isn't. He is not paying for the groceries.\n"
     ]
    }
   ],
   "source": [
    "for i, row in enumerate( result['chunks'] ):\n",
    "    print( i, row['text'] )"
   ]
  },
  {
   "cell_type": "code",
   "execution_count": 15,
   "metadata": {},
   "outputs": [
    {
     "name": "stdout",
     "output_type": "stream",
     "text": [
      " WIZARD Book 3 Conversation\n",
      " Lesson 1\n",
      " Did the boy pay one dollar for the paper at the newsstand?\n",
      " Yes, he did. He paid one dollar for the paper at the newsstand.\n",
      " No, he didn't. He didn't pay one dollar for the paper at the newsstand. Did the secretary put the document on the table.\n",
      " No, she didn't. She didn't put the document on the table.\n",
      " Did you access the information from the computer?\n",
      " Yes, I did. I access the information from the computer.\n",
      " Did your mom do her Christmas shopping early this year?\n",
      " Yes, she did. She did her Christmas shopping early this year.\n",
      " Christmas shopping early this year.\n",
      " No, she didn't. She didn't do her Christmas shopping early this year.\n",
      " Did they eat Brazilian food at the restaurant.\n",
      " No, they didn't. They didn't eat Brazilian food at the restaurant.\n",
      " Is your sister doing her homework in her bedroom?\n",
      " Yes, she is. She is doing her homework in her bedroom.\n",
      " No, she isn't. She isn't doing her homework in her bedroom.\n",
      " Are the children playing in the snow?\n",
      " Yes, they are. They are playing in the snow.\n",
      " No, they aren't. They aren't playing in the snow.\n",
      " Is your son putting the toys in the room?\n",
      " Yes, he is. He is putting the toys in the room.\n",
      " No, he isn't. He isn't putting the toys in the room.\n",
      " Is Jane accessing her email every day?\n",
      " Yes, she is. She is accessing her email every day. No, she isn't. She isn't accessing her email every day.\n",
      " Is the man paying for the groceries?\n",
      " Yes he is. He is paying for the groceries.\n",
      " No he isn't. He is not paying for the groceries.\n"
     ]
    }
   ],
   "source": [
    "for i, row in enumerate( result['chunks'] ):\n",
    "    print( row['text'] )"
   ]
  }
 ],
 "metadata": {
  "kernelspec": {
   "display_name": "Python 3",
   "language": "python",
   "name": "python3"
  },
  "language_info": {
   "codemirror_mode": {
    "name": "ipython",
    "version": 3
   },
   "file_extension": ".py",
   "mimetype": "text/x-python",
   "name": "python",
   "nbconvert_exporter": "python",
   "pygments_lexer": "ipython3",
   "version": "3.11.8"
  }
 },
 "nbformat": 4,
 "nbformat_minor": 2
}
